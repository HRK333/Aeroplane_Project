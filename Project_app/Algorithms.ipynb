{
 "cells": [
  {
   "cell_type": "code",
   "execution_count": 1,
   "id": "8e00286a",
   "metadata": {},
   "outputs": [],
   "source": [
    "# Importing all the required Libraries-\n",
    "import pandas as pd\n",
    "import numpy as np\n",
    "import seaborn as sns\n",
    "from sklearn.linear_model import LinearRegression\n",
    "from sklearn.neighbors import KNeighborsRegressor\n",
    "from sklearn.tree import DecisionTreeRegressor\n",
    "from sklearn.ensemble import RandomForestRegressor\n",
    "from sklearn.model_selection import GridSearchCV\n",
    "from sklearn.preprocessing import MinMaxScaler, StandardScaler\n",
    "from sklearn.metrics import mean_absolute_error, mean_squared_error, r2_score\n",
    "import seaborn as sns\n",
    "import matplotlib.pyplot as plt\n",
    "from sklearn.model_selection import train_test_split"
   ]
  },
  {
   "cell_type": "markdown",
   "id": "0771aa14",
   "metadata": {},
   "source": [
    "## Data Gathering"
   ]
  },
  {
   "cell_type": "code",
   "execution_count": 2,
   "id": "aa278dec",
   "metadata": {},
   "outputs": [
    {
     "data": {
      "text/html": [
       "<div>\n",
       "<style scoped>\n",
       "    .dataframe tbody tr th:only-of-type {\n",
       "        vertical-align: middle;\n",
       "    }\n",
       "\n",
       "    .dataframe tbody tr th {\n",
       "        vertical-align: top;\n",
       "    }\n",
       "\n",
       "    .dataframe thead th {\n",
       "        text-align: right;\n",
       "    }\n",
       "</style>\n",
       "<table border=\"1\" class=\"dataframe\">\n",
       "  <thead>\n",
       "    <tr style=\"text-align: right;\">\n",
       "      <th></th>\n",
       "      <th>Airline</th>\n",
       "      <th>Date_of_Journey</th>\n",
       "      <th>Source</th>\n",
       "      <th>Destination</th>\n",
       "      <th>Route</th>\n",
       "      <th>Dep_Time</th>\n",
       "      <th>Arrival_Time</th>\n",
       "      <th>Duration</th>\n",
       "      <th>Total_Stops</th>\n",
       "      <th>Additional_Info</th>\n",
       "      <th>Price</th>\n",
       "    </tr>\n",
       "  </thead>\n",
       "  <tbody>\n",
       "    <tr>\n",
       "      <th>0</th>\n",
       "      <td>IndiGo</td>\n",
       "      <td>24/03/2019</td>\n",
       "      <td>Banglore</td>\n",
       "      <td>New Delhi</td>\n",
       "      <td>BLR → DEL</td>\n",
       "      <td>22:20</td>\n",
       "      <td>01:10 22 Mar</td>\n",
       "      <td>2h 50m</td>\n",
       "      <td>non-stop</td>\n",
       "      <td>No info</td>\n",
       "      <td>3897</td>\n",
       "    </tr>\n",
       "    <tr>\n",
       "      <th>1</th>\n",
       "      <td>Air India</td>\n",
       "      <td>1/05/2019</td>\n",
       "      <td>Kolkata</td>\n",
       "      <td>Banglore</td>\n",
       "      <td>CCU → IXR → BBI → BLR</td>\n",
       "      <td>05:50</td>\n",
       "      <td>13:15</td>\n",
       "      <td>7h 25m</td>\n",
       "      <td>2 stops</td>\n",
       "      <td>No info</td>\n",
       "      <td>7662</td>\n",
       "    </tr>\n",
       "    <tr>\n",
       "      <th>2</th>\n",
       "      <td>Jet Airways</td>\n",
       "      <td>9/06/2019</td>\n",
       "      <td>Delhi</td>\n",
       "      <td>Cochin</td>\n",
       "      <td>DEL → LKO → BOM → COK</td>\n",
       "      <td>09:25</td>\n",
       "      <td>04:25 10 Jun</td>\n",
       "      <td>19h</td>\n",
       "      <td>2 stops</td>\n",
       "      <td>No info</td>\n",
       "      <td>13882</td>\n",
       "    </tr>\n",
       "    <tr>\n",
       "      <th>3</th>\n",
       "      <td>IndiGo</td>\n",
       "      <td>12/05/2019</td>\n",
       "      <td>Kolkata</td>\n",
       "      <td>Banglore</td>\n",
       "      <td>CCU → NAG → BLR</td>\n",
       "      <td>18:05</td>\n",
       "      <td>23:30</td>\n",
       "      <td>5h 25m</td>\n",
       "      <td>1 stop</td>\n",
       "      <td>No info</td>\n",
       "      <td>6218</td>\n",
       "    </tr>\n",
       "    <tr>\n",
       "      <th>4</th>\n",
       "      <td>IndiGo</td>\n",
       "      <td>01/03/2019</td>\n",
       "      <td>Banglore</td>\n",
       "      <td>New Delhi</td>\n",
       "      <td>BLR → NAG → DEL</td>\n",
       "      <td>16:50</td>\n",
       "      <td>21:35</td>\n",
       "      <td>4h 45m</td>\n",
       "      <td>1 stop</td>\n",
       "      <td>No info</td>\n",
       "      <td>13302</td>\n",
       "    </tr>\n",
       "    <tr>\n",
       "      <th>...</th>\n",
       "      <td>...</td>\n",
       "      <td>...</td>\n",
       "      <td>...</td>\n",
       "      <td>...</td>\n",
       "      <td>...</td>\n",
       "      <td>...</td>\n",
       "      <td>...</td>\n",
       "      <td>...</td>\n",
       "      <td>...</td>\n",
       "      <td>...</td>\n",
       "      <td>...</td>\n",
       "    </tr>\n",
       "    <tr>\n",
       "      <th>10678</th>\n",
       "      <td>Air Asia</td>\n",
       "      <td>9/04/2019</td>\n",
       "      <td>Kolkata</td>\n",
       "      <td>Banglore</td>\n",
       "      <td>CCU → BLR</td>\n",
       "      <td>19:55</td>\n",
       "      <td>22:25</td>\n",
       "      <td>2h 30m</td>\n",
       "      <td>non-stop</td>\n",
       "      <td>No info</td>\n",
       "      <td>4107</td>\n",
       "    </tr>\n",
       "    <tr>\n",
       "      <th>10679</th>\n",
       "      <td>Air India</td>\n",
       "      <td>27/04/2019</td>\n",
       "      <td>Kolkata</td>\n",
       "      <td>Banglore</td>\n",
       "      <td>CCU → BLR</td>\n",
       "      <td>20:45</td>\n",
       "      <td>23:20</td>\n",
       "      <td>2h 35m</td>\n",
       "      <td>non-stop</td>\n",
       "      <td>No info</td>\n",
       "      <td>4145</td>\n",
       "    </tr>\n",
       "    <tr>\n",
       "      <th>10680</th>\n",
       "      <td>Jet Airways</td>\n",
       "      <td>27/04/2019</td>\n",
       "      <td>Banglore</td>\n",
       "      <td>Delhi</td>\n",
       "      <td>BLR → DEL</td>\n",
       "      <td>08:20</td>\n",
       "      <td>11:20</td>\n",
       "      <td>3h</td>\n",
       "      <td>non-stop</td>\n",
       "      <td>No info</td>\n",
       "      <td>7229</td>\n",
       "    </tr>\n",
       "    <tr>\n",
       "      <th>10681</th>\n",
       "      <td>Vistara</td>\n",
       "      <td>01/03/2019</td>\n",
       "      <td>Banglore</td>\n",
       "      <td>New Delhi</td>\n",
       "      <td>BLR → DEL</td>\n",
       "      <td>11:30</td>\n",
       "      <td>14:10</td>\n",
       "      <td>2h 40m</td>\n",
       "      <td>non-stop</td>\n",
       "      <td>No info</td>\n",
       "      <td>12648</td>\n",
       "    </tr>\n",
       "    <tr>\n",
       "      <th>10682</th>\n",
       "      <td>Air India</td>\n",
       "      <td>9/05/2019</td>\n",
       "      <td>Delhi</td>\n",
       "      <td>Cochin</td>\n",
       "      <td>DEL → GOI → BOM → COK</td>\n",
       "      <td>10:55</td>\n",
       "      <td>19:15</td>\n",
       "      <td>8h 20m</td>\n",
       "      <td>2 stops</td>\n",
       "      <td>No info</td>\n",
       "      <td>11753</td>\n",
       "    </tr>\n",
       "  </tbody>\n",
       "</table>\n",
       "<p>10683 rows × 11 columns</p>\n",
       "</div>"
      ],
      "text/plain": [
       "           Airline Date_of_Journey    Source Destination  \\\n",
       "0           IndiGo      24/03/2019  Banglore   New Delhi   \n",
       "1        Air India       1/05/2019   Kolkata    Banglore   \n",
       "2      Jet Airways       9/06/2019     Delhi      Cochin   \n",
       "3           IndiGo      12/05/2019   Kolkata    Banglore   \n",
       "4           IndiGo      01/03/2019  Banglore   New Delhi   \n",
       "...            ...             ...       ...         ...   \n",
       "10678     Air Asia       9/04/2019   Kolkata    Banglore   \n",
       "10679    Air India      27/04/2019   Kolkata    Banglore   \n",
       "10680  Jet Airways      27/04/2019  Banglore       Delhi   \n",
       "10681      Vistara      01/03/2019  Banglore   New Delhi   \n",
       "10682    Air India       9/05/2019     Delhi      Cochin   \n",
       "\n",
       "                       Route Dep_Time  Arrival_Time Duration Total_Stops  \\\n",
       "0                  BLR → DEL    22:20  01:10 22 Mar   2h 50m    non-stop   \n",
       "1      CCU → IXR → BBI → BLR    05:50         13:15   7h 25m     2 stops   \n",
       "2      DEL → LKO → BOM → COK    09:25  04:25 10 Jun      19h     2 stops   \n",
       "3            CCU → NAG → BLR    18:05         23:30   5h 25m      1 stop   \n",
       "4            BLR → NAG → DEL    16:50         21:35   4h 45m      1 stop   \n",
       "...                      ...      ...           ...      ...         ...   \n",
       "10678              CCU → BLR    19:55         22:25   2h 30m    non-stop   \n",
       "10679              CCU → BLR    20:45         23:20   2h 35m    non-stop   \n",
       "10680              BLR → DEL    08:20         11:20       3h    non-stop   \n",
       "10681              BLR → DEL    11:30         14:10   2h 40m    non-stop   \n",
       "10682  DEL → GOI → BOM → COK    10:55         19:15   8h 20m     2 stops   \n",
       "\n",
       "      Additional_Info  Price  \n",
       "0             No info   3897  \n",
       "1             No info   7662  \n",
       "2             No info  13882  \n",
       "3             No info   6218  \n",
       "4             No info  13302  \n",
       "...               ...    ...  \n",
       "10678         No info   4107  \n",
       "10679         No info   4145  \n",
       "10680         No info   7229  \n",
       "10681         No info  12648  \n",
       "10682         No info  11753  \n",
       "\n",
       "[10683 rows x 11 columns]"
      ]
     },
     "execution_count": 2,
     "metadata": {},
     "output_type": "execute_result"
    }
   ],
   "source": [
    "# Creating dataframe-\n",
    "df = pd.read_excel(\"aeroplane data.xlsx\")\n",
    "df"
   ]
  },
  {
   "cell_type": "markdown",
   "id": "f100289e",
   "metadata": {},
   "source": [
    "## EDA"
   ]
  },
  {
   "cell_type": "code",
   "execution_count": 3,
   "id": "0f8e8de6",
   "metadata": {},
   "outputs": [
    {
     "name": "stdout",
     "output_type": "stream",
     "text": [
      "<class 'pandas.core.frame.DataFrame'>\n",
      "RangeIndex: 10683 entries, 0 to 10682\n",
      "Data columns (total 11 columns):\n",
      " #   Column           Non-Null Count  Dtype \n",
      "---  ------           --------------  ----- \n",
      " 0   Airline          10683 non-null  object\n",
      " 1   Date_of_Journey  10683 non-null  object\n",
      " 2   Source           10683 non-null  object\n",
      " 3   Destination      10683 non-null  object\n",
      " 4   Route            10682 non-null  object\n",
      " 5   Dep_Time         10683 non-null  object\n",
      " 6   Arrival_Time     10683 non-null  object\n",
      " 7   Duration         10683 non-null  object\n",
      " 8   Total_Stops      10682 non-null  object\n",
      " 9   Additional_Info  10683 non-null  object\n",
      " 10  Price            10683 non-null  int64 \n",
      "dtypes: int64(1), object(10)\n",
      "memory usage: 918.2+ KB\n"
     ]
    }
   ],
   "source": [
    "df.info()"
   ]
  },
  {
   "cell_type": "code",
   "execution_count": 4,
   "id": "3eee0021",
   "metadata": {},
   "outputs": [],
   "source": [
    "# Dropping unwanted features-\n",
    "df.drop([\"Date_of_Journey\", \"Route\",\"Dep_Time\",\"Arrival_Time\", \"Additional_Info\"], axis=1, inplace=True)"
   ]
  },
  {
   "cell_type": "code",
   "execution_count": 5,
   "id": "42384b56",
   "metadata": {},
   "outputs": [
    {
     "data": {
      "text/plain": [
       "Airline        0\n",
       "Source         0\n",
       "Destination    0\n",
       "Duration       0\n",
       "Total_Stops    1\n",
       "Price          0\n",
       "dtype: int64"
      ]
     },
     "execution_count": 5,
     "metadata": {},
     "output_type": "execute_result"
    }
   ],
   "source": [
    "# Checking Null Data-\n",
    "df.isna().sum()"
   ]
  },
  {
   "cell_type": "code",
   "execution_count": 6,
   "id": "bc536254",
   "metadata": {},
   "outputs": [
    {
     "data": {
      "text/plain": [
       "{'Jet Airways': 3849,\n",
       " 'IndiGo': 2053,\n",
       " 'Air India': 1752,\n",
       " 'Multiple carriers': 1196,\n",
       " 'SpiceJet': 818,\n",
       " 'Vistara': 479,\n",
       " 'Air Asia': 319,\n",
       " 'GoAir': 194,\n",
       " 'Multiple carriers Premium economy': 13,\n",
       " 'Jet Airways Business': 6,\n",
       " 'Vistara Premium economy': 3,\n",
       " 'Trujet': 1}"
      ]
     },
     "execution_count": 6,
     "metadata": {},
     "output_type": "execute_result"
    }
   ],
   "source": [
    "df[\"Airline\"].value_counts().to_dict()"
   ]
  },
  {
   "cell_type": "code",
   "execution_count": 7,
   "id": "a721d141",
   "metadata": {},
   "outputs": [
    {
     "data": {
      "text/plain": [
       "{'Cochin': 4537,\n",
       " 'Banglore': 2871,\n",
       " 'Delhi': 1265,\n",
       " 'New Delhi': 932,\n",
       " 'Hyderabad': 697,\n",
       " 'Kolkata': 381}"
      ]
     },
     "execution_count": 7,
     "metadata": {},
     "output_type": "execute_result"
    }
   ],
   "source": [
    "df[\"Destination\"].value_counts().to_dict()"
   ]
  },
  {
   "cell_type": "code",
   "execution_count": 8,
   "id": "f7fc8278",
   "metadata": {},
   "outputs": [],
   "source": [
    "# Replacing object data with integers-\n",
    "Airline = df[\"Airline\"].value_counts().to_dict()\n",
    "num=0\n",
    "for i in Airline.keys():\n",
    "    Airline[i] = num\n",
    "    num+=1\n",
    "df[\"Airline\"].replace(Airline, inplace=True)"
   ]
  },
  {
   "cell_type": "code",
   "execution_count": 100,
   "id": "32420ba8",
   "metadata": {},
   "outputs": [
    {
     "data": {
      "text/plain": [
       "{'Jet Airways': 0,\n",
       " 'IndiGo': 1,\n",
       " 'Air India': 2,\n",
       " 'Multiple carriers': 3,\n",
       " 'SpiceJet': 4,\n",
       " 'Vistara': 5,\n",
       " 'Air Asia': 6,\n",
       " 'GoAir': 7,\n",
       " 'Multiple carriers Premium economy': 8,\n",
       " 'Jet Airways Business': 9,\n",
       " 'Vistara Premium economy': 10,\n",
       " 'Trujet': 11}"
      ]
     },
     "execution_count": 100,
     "metadata": {},
     "output_type": "execute_result"
    }
   ],
   "source": [
    "Airline"
   ]
  },
  {
   "cell_type": "code",
   "execution_count": 9,
   "id": "3eb3600b",
   "metadata": {},
   "outputs": [],
   "source": [
    "# Replacing object data with integers-\n",
    "Destination = df[\"Destination\"].value_counts().to_dict()\n",
    "num=0\n",
    "for i in Destination.keys():\n",
    "    Destination[i] = num\n",
    "    num+=1\n",
    "df[\"Destination\"].replace(Destination, inplace=True)"
   ]
  },
  {
   "cell_type": "code",
   "execution_count": 10,
   "id": "0b786a8f",
   "metadata": {},
   "outputs": [
    {
     "data": {
      "text/html": [
       "<div>\n",
       "<style scoped>\n",
       "    .dataframe tbody tr th:only-of-type {\n",
       "        vertical-align: middle;\n",
       "    }\n",
       "\n",
       "    .dataframe tbody tr th {\n",
       "        vertical-align: top;\n",
       "    }\n",
       "\n",
       "    .dataframe thead th {\n",
       "        text-align: right;\n",
       "    }\n",
       "</style>\n",
       "<table border=\"1\" class=\"dataframe\">\n",
       "  <thead>\n",
       "    <tr style=\"text-align: right;\">\n",
       "      <th></th>\n",
       "      <th>Airline</th>\n",
       "      <th>Source</th>\n",
       "      <th>Destination</th>\n",
       "      <th>Duration</th>\n",
       "      <th>Total_Stops</th>\n",
       "      <th>Price</th>\n",
       "    </tr>\n",
       "  </thead>\n",
       "  <tbody>\n",
       "    <tr>\n",
       "      <th>0</th>\n",
       "      <td>1</td>\n",
       "      <td>2</td>\n",
       "      <td>3</td>\n",
       "      <td>2h 50m</td>\n",
       "      <td>non-stop</td>\n",
       "      <td>3897</td>\n",
       "    </tr>\n",
       "    <tr>\n",
       "      <th>1</th>\n",
       "      <td>2</td>\n",
       "      <td>1</td>\n",
       "      <td>1</td>\n",
       "      <td>7h 25m</td>\n",
       "      <td>2 stops</td>\n",
       "      <td>7662</td>\n",
       "    </tr>\n",
       "    <tr>\n",
       "      <th>2</th>\n",
       "      <td>0</td>\n",
       "      <td>0</td>\n",
       "      <td>0</td>\n",
       "      <td>19h</td>\n",
       "      <td>2 stops</td>\n",
       "      <td>13882</td>\n",
       "    </tr>\n",
       "    <tr>\n",
       "      <th>3</th>\n",
       "      <td>1</td>\n",
       "      <td>1</td>\n",
       "      <td>1</td>\n",
       "      <td>5h 25m</td>\n",
       "      <td>1 stop</td>\n",
       "      <td>6218</td>\n",
       "    </tr>\n",
       "    <tr>\n",
       "      <th>4</th>\n",
       "      <td>1</td>\n",
       "      <td>2</td>\n",
       "      <td>3</td>\n",
       "      <td>4h 45m</td>\n",
       "      <td>1 stop</td>\n",
       "      <td>13302</td>\n",
       "    </tr>\n",
       "    <tr>\n",
       "      <th>...</th>\n",
       "      <td>...</td>\n",
       "      <td>...</td>\n",
       "      <td>...</td>\n",
       "      <td>...</td>\n",
       "      <td>...</td>\n",
       "      <td>...</td>\n",
       "    </tr>\n",
       "    <tr>\n",
       "      <th>10678</th>\n",
       "      <td>6</td>\n",
       "      <td>1</td>\n",
       "      <td>1</td>\n",
       "      <td>2h 30m</td>\n",
       "      <td>non-stop</td>\n",
       "      <td>4107</td>\n",
       "    </tr>\n",
       "    <tr>\n",
       "      <th>10679</th>\n",
       "      <td>2</td>\n",
       "      <td>1</td>\n",
       "      <td>1</td>\n",
       "      <td>2h 35m</td>\n",
       "      <td>non-stop</td>\n",
       "      <td>4145</td>\n",
       "    </tr>\n",
       "    <tr>\n",
       "      <th>10680</th>\n",
       "      <td>0</td>\n",
       "      <td>2</td>\n",
       "      <td>2</td>\n",
       "      <td>3h</td>\n",
       "      <td>non-stop</td>\n",
       "      <td>7229</td>\n",
       "    </tr>\n",
       "    <tr>\n",
       "      <th>10681</th>\n",
       "      <td>5</td>\n",
       "      <td>2</td>\n",
       "      <td>3</td>\n",
       "      <td>2h 40m</td>\n",
       "      <td>non-stop</td>\n",
       "      <td>12648</td>\n",
       "    </tr>\n",
       "    <tr>\n",
       "      <th>10682</th>\n",
       "      <td>2</td>\n",
       "      <td>0</td>\n",
       "      <td>0</td>\n",
       "      <td>8h 20m</td>\n",
       "      <td>2 stops</td>\n",
       "      <td>11753</td>\n",
       "    </tr>\n",
       "  </tbody>\n",
       "</table>\n",
       "<p>10683 rows × 6 columns</p>\n",
       "</div>"
      ],
      "text/plain": [
       "       Airline  Source  Destination Duration Total_Stops  Price\n",
       "0            1       2            3   2h 50m    non-stop   3897\n",
       "1            2       1            1   7h 25m     2 stops   7662\n",
       "2            0       0            0      19h     2 stops  13882\n",
       "3            1       1            1   5h 25m      1 stop   6218\n",
       "4            1       2            3   4h 45m      1 stop  13302\n",
       "...        ...     ...          ...      ...         ...    ...\n",
       "10678        6       1            1   2h 30m    non-stop   4107\n",
       "10679        2       1            1   2h 35m    non-stop   4145\n",
       "10680        0       2            2       3h    non-stop   7229\n",
       "10681        5       2            3   2h 40m    non-stop  12648\n",
       "10682        2       0            0   8h 20m     2 stops  11753\n",
       "\n",
       "[10683 rows x 6 columns]"
      ]
     },
     "execution_count": 10,
     "metadata": {},
     "output_type": "execute_result"
    }
   ],
   "source": [
    "# Replacing object data with integers-\n",
    "Source = df['Source'].value_counts().to_dict()\n",
    "num=0\n",
    "for i in Source.keys():\n",
    "    Source[i] = num\n",
    "    num +=1\n",
    "df['Source'].replace(Source,inplace=True)\n",
    "df"
   ]
  },
  {
   "cell_type": "code",
   "execution_count": 11,
   "id": "577737f8",
   "metadata": {},
   "outputs": [
    {
     "data": {
      "text/plain": [
       "0        2h 50m\n",
       "1        7h 25m\n",
       "2           19h\n",
       "3        5h 25m\n",
       "4        4h 45m\n",
       "          ...  \n",
       "10678    2h 30m\n",
       "10679    2h 35m\n",
       "10680        3h\n",
       "10681    2h 40m\n",
       "10682    8h 20m\n",
       "Name: Duration, Length: 10683, dtype: object"
      ]
     },
     "execution_count": 11,
     "metadata": {},
     "output_type": "execute_result"
    }
   ],
   "source": [
    "df[\"Duration\"]"
   ]
  },
  {
   "cell_type": "code",
   "execution_count": 12,
   "id": "603e580d",
   "metadata": {},
   "outputs": [],
   "source": [
    "df[\"Duration\"] = df[\"Duration\"].str.replace(\"h\", \"*60\").str.replace(\" \", \"+\").str.replace(\"m\",\"*1\").apply(eval)"
   ]
  },
  {
   "cell_type": "code",
   "execution_count": 13,
   "id": "32c1ec82",
   "metadata": {},
   "outputs": [
    {
     "data": {
      "text/html": [
       "<div>\n",
       "<style scoped>\n",
       "    .dataframe tbody tr th:only-of-type {\n",
       "        vertical-align: middle;\n",
       "    }\n",
       "\n",
       "    .dataframe tbody tr th {\n",
       "        vertical-align: top;\n",
       "    }\n",
       "\n",
       "    .dataframe thead th {\n",
       "        text-align: right;\n",
       "    }\n",
       "</style>\n",
       "<table border=\"1\" class=\"dataframe\">\n",
       "  <thead>\n",
       "    <tr style=\"text-align: right;\">\n",
       "      <th></th>\n",
       "      <th>Airline</th>\n",
       "      <th>Source</th>\n",
       "      <th>Destination</th>\n",
       "      <th>Duration</th>\n",
       "      <th>Total_Stops</th>\n",
       "      <th>Price</th>\n",
       "    </tr>\n",
       "  </thead>\n",
       "  <tbody>\n",
       "    <tr>\n",
       "      <th>0</th>\n",
       "      <td>1</td>\n",
       "      <td>2</td>\n",
       "      <td>3</td>\n",
       "      <td>170</td>\n",
       "      <td>non-stop</td>\n",
       "      <td>3897</td>\n",
       "    </tr>\n",
       "    <tr>\n",
       "      <th>1</th>\n",
       "      <td>2</td>\n",
       "      <td>1</td>\n",
       "      <td>1</td>\n",
       "      <td>445</td>\n",
       "      <td>2 stops</td>\n",
       "      <td>7662</td>\n",
       "    </tr>\n",
       "    <tr>\n",
       "      <th>2</th>\n",
       "      <td>0</td>\n",
       "      <td>0</td>\n",
       "      <td>0</td>\n",
       "      <td>1140</td>\n",
       "      <td>2 stops</td>\n",
       "      <td>13882</td>\n",
       "    </tr>\n",
       "    <tr>\n",
       "      <th>3</th>\n",
       "      <td>1</td>\n",
       "      <td>1</td>\n",
       "      <td>1</td>\n",
       "      <td>325</td>\n",
       "      <td>1 stop</td>\n",
       "      <td>6218</td>\n",
       "    </tr>\n",
       "    <tr>\n",
       "      <th>4</th>\n",
       "      <td>1</td>\n",
       "      <td>2</td>\n",
       "      <td>3</td>\n",
       "      <td>285</td>\n",
       "      <td>1 stop</td>\n",
       "      <td>13302</td>\n",
       "    </tr>\n",
       "    <tr>\n",
       "      <th>...</th>\n",
       "      <td>...</td>\n",
       "      <td>...</td>\n",
       "      <td>...</td>\n",
       "      <td>...</td>\n",
       "      <td>...</td>\n",
       "      <td>...</td>\n",
       "    </tr>\n",
       "    <tr>\n",
       "      <th>10678</th>\n",
       "      <td>6</td>\n",
       "      <td>1</td>\n",
       "      <td>1</td>\n",
       "      <td>150</td>\n",
       "      <td>non-stop</td>\n",
       "      <td>4107</td>\n",
       "    </tr>\n",
       "    <tr>\n",
       "      <th>10679</th>\n",
       "      <td>2</td>\n",
       "      <td>1</td>\n",
       "      <td>1</td>\n",
       "      <td>155</td>\n",
       "      <td>non-stop</td>\n",
       "      <td>4145</td>\n",
       "    </tr>\n",
       "    <tr>\n",
       "      <th>10680</th>\n",
       "      <td>0</td>\n",
       "      <td>2</td>\n",
       "      <td>2</td>\n",
       "      <td>180</td>\n",
       "      <td>non-stop</td>\n",
       "      <td>7229</td>\n",
       "    </tr>\n",
       "    <tr>\n",
       "      <th>10681</th>\n",
       "      <td>5</td>\n",
       "      <td>2</td>\n",
       "      <td>3</td>\n",
       "      <td>160</td>\n",
       "      <td>non-stop</td>\n",
       "      <td>12648</td>\n",
       "    </tr>\n",
       "    <tr>\n",
       "      <th>10682</th>\n",
       "      <td>2</td>\n",
       "      <td>0</td>\n",
       "      <td>0</td>\n",
       "      <td>500</td>\n",
       "      <td>2 stops</td>\n",
       "      <td>11753</td>\n",
       "    </tr>\n",
       "  </tbody>\n",
       "</table>\n",
       "<p>10683 rows × 6 columns</p>\n",
       "</div>"
      ],
      "text/plain": [
       "       Airline  Source  Destination  Duration Total_Stops  Price\n",
       "0            1       2            3       170    non-stop   3897\n",
       "1            2       1            1       445     2 stops   7662\n",
       "2            0       0            0      1140     2 stops  13882\n",
       "3            1       1            1       325      1 stop   6218\n",
       "4            1       2            3       285      1 stop  13302\n",
       "...        ...     ...          ...       ...         ...    ...\n",
       "10678        6       1            1       150    non-stop   4107\n",
       "10679        2       1            1       155    non-stop   4145\n",
       "10680        0       2            2       180    non-stop   7229\n",
       "10681        5       2            3       160    non-stop  12648\n",
       "10682        2       0            0       500     2 stops  11753\n",
       "\n",
       "[10683 rows x 6 columns]"
      ]
     },
     "execution_count": 13,
     "metadata": {},
     "output_type": "execute_result"
    }
   ],
   "source": [
    "df"
   ]
  },
  {
   "cell_type": "code",
   "execution_count": 14,
   "id": "10133f57",
   "metadata": {},
   "outputs": [
    {
     "name": "stdout",
     "output_type": "stream",
     "text": [
      "<class 'pandas.core.frame.DataFrame'>\n",
      "RangeIndex: 10683 entries, 0 to 10682\n",
      "Data columns (total 6 columns):\n",
      " #   Column       Non-Null Count  Dtype \n",
      "---  ------       --------------  ----- \n",
      " 0   Airline      10683 non-null  int64 \n",
      " 1   Source       10683 non-null  int64 \n",
      " 2   Destination  10683 non-null  int64 \n",
      " 3   Duration     10683 non-null  int64 \n",
      " 4   Total_Stops  10682 non-null  object\n",
      " 5   Price        10683 non-null  int64 \n",
      "dtypes: int64(5), object(1)\n",
      "memory usage: 500.9+ KB\n"
     ]
    }
   ],
   "source": [
    "df.info()"
   ]
  },
  {
   "cell_type": "code",
   "execution_count": 15,
   "id": "7029c965",
   "metadata": {},
   "outputs": [
    {
     "data": {
      "text/plain": [
       "'1 stop'"
      ]
     },
     "execution_count": 15,
     "metadata": {},
     "output_type": "execute_result"
    }
   ],
   "source": [
    "df[\"Total_Stops\"].mode()[0]"
   ]
  },
  {
   "cell_type": "code",
   "execution_count": 16,
   "id": "df2683b3",
   "metadata": {},
   "outputs": [],
   "source": [
    "# Replacing null values with mode of column-\n",
    "df[\"Total_Stops\"].fillna(df[\"Total_Stops\"].mode()[0], inplace=True)"
   ]
  },
  {
   "cell_type": "code",
   "execution_count": 17,
   "id": "63782df0",
   "metadata": {},
   "outputs": [
    {
     "name": "stdout",
     "output_type": "stream",
     "text": [
      "<class 'pandas.core.frame.DataFrame'>\n",
      "RangeIndex: 10683 entries, 0 to 10682\n",
      "Data columns (total 6 columns):\n",
      " #   Column       Non-Null Count  Dtype \n",
      "---  ------       --------------  ----- \n",
      " 0   Airline      10683 non-null  int64 \n",
      " 1   Source       10683 non-null  int64 \n",
      " 2   Destination  10683 non-null  int64 \n",
      " 3   Duration     10683 non-null  int64 \n",
      " 4   Total_Stops  10683 non-null  object\n",
      " 5   Price        10683 non-null  int64 \n",
      "dtypes: int64(5), object(1)\n",
      "memory usage: 500.9+ KB\n"
     ]
    }
   ],
   "source": [
    "df.info()"
   ]
  },
  {
   "cell_type": "code",
   "execution_count": 18,
   "id": "b100cbeb",
   "metadata": {},
   "outputs": [
    {
     "data": {
      "text/plain": [
       "{'1 stop': 5626,\n",
       " 'non-stop': 3491,\n",
       " '2 stops': 1520,\n",
       " '3 stops': 45,\n",
       " '4 stops': 1}"
      ]
     },
     "execution_count": 18,
     "metadata": {},
     "output_type": "execute_result"
    }
   ],
   "source": [
    "df[\"Total_Stops\"].value_counts().to_dict()"
   ]
  },
  {
   "cell_type": "code",
   "execution_count": 19,
   "id": "a74348ca",
   "metadata": {},
   "outputs": [],
   "source": [
    "# Replacing object data with integers-\n",
    "df[\"Total_Stops\"].replace({'1 stop': 1,\n",
    " 'non-stop': 0,\n",
    " '2 stops': 2,\n",
    " '3 stops': 3,\n",
    " '4 stops': 4},inplace=True)"
   ]
  },
  {
   "cell_type": "code",
   "execution_count": 20,
   "id": "920a59a4",
   "metadata": {},
   "outputs": [
    {
     "data": {
      "text/html": [
       "<div>\n",
       "<style scoped>\n",
       "    .dataframe tbody tr th:only-of-type {\n",
       "        vertical-align: middle;\n",
       "    }\n",
       "\n",
       "    .dataframe tbody tr th {\n",
       "        vertical-align: top;\n",
       "    }\n",
       "\n",
       "    .dataframe thead th {\n",
       "        text-align: right;\n",
       "    }\n",
       "</style>\n",
       "<table border=\"1\" class=\"dataframe\">\n",
       "  <thead>\n",
       "    <tr style=\"text-align: right;\">\n",
       "      <th></th>\n",
       "      <th>Airline</th>\n",
       "      <th>Source</th>\n",
       "      <th>Destination</th>\n",
       "      <th>Duration</th>\n",
       "      <th>Total_Stops</th>\n",
       "      <th>Price</th>\n",
       "    </tr>\n",
       "  </thead>\n",
       "  <tbody>\n",
       "    <tr>\n",
       "      <th>0</th>\n",
       "      <td>1</td>\n",
       "      <td>2</td>\n",
       "      <td>3</td>\n",
       "      <td>170</td>\n",
       "      <td>0</td>\n",
       "      <td>3897</td>\n",
       "    </tr>\n",
       "    <tr>\n",
       "      <th>1</th>\n",
       "      <td>2</td>\n",
       "      <td>1</td>\n",
       "      <td>1</td>\n",
       "      <td>445</td>\n",
       "      <td>2</td>\n",
       "      <td>7662</td>\n",
       "    </tr>\n",
       "    <tr>\n",
       "      <th>2</th>\n",
       "      <td>0</td>\n",
       "      <td>0</td>\n",
       "      <td>0</td>\n",
       "      <td>1140</td>\n",
       "      <td>2</td>\n",
       "      <td>13882</td>\n",
       "    </tr>\n",
       "    <tr>\n",
       "      <th>3</th>\n",
       "      <td>1</td>\n",
       "      <td>1</td>\n",
       "      <td>1</td>\n",
       "      <td>325</td>\n",
       "      <td>1</td>\n",
       "      <td>6218</td>\n",
       "    </tr>\n",
       "    <tr>\n",
       "      <th>4</th>\n",
       "      <td>1</td>\n",
       "      <td>2</td>\n",
       "      <td>3</td>\n",
       "      <td>285</td>\n",
       "      <td>1</td>\n",
       "      <td>13302</td>\n",
       "    </tr>\n",
       "    <tr>\n",
       "      <th>...</th>\n",
       "      <td>...</td>\n",
       "      <td>...</td>\n",
       "      <td>...</td>\n",
       "      <td>...</td>\n",
       "      <td>...</td>\n",
       "      <td>...</td>\n",
       "    </tr>\n",
       "    <tr>\n",
       "      <th>10678</th>\n",
       "      <td>6</td>\n",
       "      <td>1</td>\n",
       "      <td>1</td>\n",
       "      <td>150</td>\n",
       "      <td>0</td>\n",
       "      <td>4107</td>\n",
       "    </tr>\n",
       "    <tr>\n",
       "      <th>10679</th>\n",
       "      <td>2</td>\n",
       "      <td>1</td>\n",
       "      <td>1</td>\n",
       "      <td>155</td>\n",
       "      <td>0</td>\n",
       "      <td>4145</td>\n",
       "    </tr>\n",
       "    <tr>\n",
       "      <th>10680</th>\n",
       "      <td>0</td>\n",
       "      <td>2</td>\n",
       "      <td>2</td>\n",
       "      <td>180</td>\n",
       "      <td>0</td>\n",
       "      <td>7229</td>\n",
       "    </tr>\n",
       "    <tr>\n",
       "      <th>10681</th>\n",
       "      <td>5</td>\n",
       "      <td>2</td>\n",
       "      <td>3</td>\n",
       "      <td>160</td>\n",
       "      <td>0</td>\n",
       "      <td>12648</td>\n",
       "    </tr>\n",
       "    <tr>\n",
       "      <th>10682</th>\n",
       "      <td>2</td>\n",
       "      <td>0</td>\n",
       "      <td>0</td>\n",
       "      <td>500</td>\n",
       "      <td>2</td>\n",
       "      <td>11753</td>\n",
       "    </tr>\n",
       "  </tbody>\n",
       "</table>\n",
       "<p>10683 rows × 6 columns</p>\n",
       "</div>"
      ],
      "text/plain": [
       "       Airline  Source  Destination  Duration  Total_Stops  Price\n",
       "0            1       2            3       170            0   3897\n",
       "1            2       1            1       445            2   7662\n",
       "2            0       0            0      1140            2  13882\n",
       "3            1       1            1       325            1   6218\n",
       "4            1       2            3       285            1  13302\n",
       "...        ...     ...          ...       ...          ...    ...\n",
       "10678        6       1            1       150            0   4107\n",
       "10679        2       1            1       155            0   4145\n",
       "10680        0       2            2       180            0   7229\n",
       "10681        5       2            3       160            0  12648\n",
       "10682        2       0            0       500            2  11753\n",
       "\n",
       "[10683 rows x 6 columns]"
      ]
     },
     "execution_count": 20,
     "metadata": {},
     "output_type": "execute_result"
    }
   ],
   "source": [
    "# Data is ready for further procedures-\n",
    "df"
   ]
  },
  {
   "cell_type": "code",
   "execution_count": 21,
   "id": "611b3b6e",
   "metadata": {},
   "outputs": [
    {
     "data": {
      "text/plain": [
       "<AxesSubplot:>"
      ]
     },
     "execution_count": 21,
     "metadata": {},
     "output_type": "execute_result"
    },
    {
     "data": {
      "image/png": "[encoded data removed]",
      "text/plain": [
       "<Figure size 640x480 with 2 Axes>"
      ]
     },
     "metadata": {},
     "output_type": "display_data"
    }
   ],
   "source": [
    "# Checking Linearity or corelation-\n",
    "sns.heatmap(df.corr(),annot=True)"
   ]
  },
  {
   "cell_type": "markdown",
   "id": "379e5c6f",
   "metadata": {},
   "source": [
    "# Train-Test-Split"
   ]
  },
  {
   "cell_type": "code",
   "execution_count": 22,
   "id": "4c494caf",
   "metadata": {},
   "outputs": [],
   "source": [
    "x = df.drop(\"Price\", axis=1)\n",
    "y = df[\"Price\"]\n",
    "x_train,x_test,y_train,y_test = train_test_split(x,y,test_size=0.2,random_state=33)"
   ]
  },
  {
   "cell_type": "code",
   "execution_count": 23,
   "id": "b56e1c8e",
   "metadata": {},
   "outputs": [
    {
     "data": {
      "text/html": [
       "<div>\n",
       "<style scoped>\n",
       "    .dataframe tbody tr th:only-of-type {\n",
       "        vertical-align: middle;\n",
       "    }\n",
       "\n",
       "    .dataframe tbody tr th {\n",
       "        vertical-align: top;\n",
       "    }\n",
       "\n",
       "    .dataframe thead th {\n",
       "        text-align: right;\n",
       "    }\n",
       "</style>\n",
       "<table border=\"1\" class=\"dataframe\">\n",
       "  <thead>\n",
       "    <tr style=\"text-align: right;\">\n",
       "      <th></th>\n",
       "      <th>Airline</th>\n",
       "      <th>Source</th>\n",
       "      <th>Destination</th>\n",
       "      <th>Duration</th>\n",
       "      <th>Total_Stops</th>\n",
       "    </tr>\n",
       "  </thead>\n",
       "  <tbody>\n",
       "    <tr>\n",
       "      <th>7023</th>\n",
       "      <td>0</td>\n",
       "      <td>3</td>\n",
       "      <td>4</td>\n",
       "      <td>85</td>\n",
       "      <td>0</td>\n",
       "    </tr>\n",
       "    <tr>\n",
       "      <th>6078</th>\n",
       "      <td>1</td>\n",
       "      <td>1</td>\n",
       "      <td>1</td>\n",
       "      <td>150</td>\n",
       "      <td>0</td>\n",
       "    </tr>\n",
       "    <tr>\n",
       "      <th>6150</th>\n",
       "      <td>2</td>\n",
       "      <td>1</td>\n",
       "      <td>1</td>\n",
       "      <td>1540</td>\n",
       "      <td>1</td>\n",
       "    </tr>\n",
       "    <tr>\n",
       "      <th>1632</th>\n",
       "      <td>0</td>\n",
       "      <td>0</td>\n",
       "      <td>0</td>\n",
       "      <td>1090</td>\n",
       "      <td>2</td>\n",
       "    </tr>\n",
       "    <tr>\n",
       "      <th>7845</th>\n",
       "      <td>0</td>\n",
       "      <td>0</td>\n",
       "      <td>0</td>\n",
       "      <td>1040</td>\n",
       "      <td>1</td>\n",
       "    </tr>\n",
       "    <tr>\n",
       "      <th>...</th>\n",
       "      <td>...</td>\n",
       "      <td>...</td>\n",
       "      <td>...</td>\n",
       "      <td>...</td>\n",
       "      <td>...</td>\n",
       "    </tr>\n",
       "    <tr>\n",
       "      <th>57</th>\n",
       "      <td>5</td>\n",
       "      <td>4</td>\n",
       "      <td>5</td>\n",
       "      <td>135</td>\n",
       "      <td>0</td>\n",
       "    </tr>\n",
       "    <tr>\n",
       "      <th>578</th>\n",
       "      <td>0</td>\n",
       "      <td>0</td>\n",
       "      <td>0</td>\n",
       "      <td>660</td>\n",
       "      <td>1</td>\n",
       "    </tr>\n",
       "    <tr>\n",
       "      <th>5848</th>\n",
       "      <td>0</td>\n",
       "      <td>0</td>\n",
       "      <td>0</td>\n",
       "      <td>910</td>\n",
       "      <td>2</td>\n",
       "    </tr>\n",
       "    <tr>\n",
       "      <th>2439</th>\n",
       "      <td>3</td>\n",
       "      <td>0</td>\n",
       "      <td>0</td>\n",
       "      <td>665</td>\n",
       "      <td>1</td>\n",
       "    </tr>\n",
       "    <tr>\n",
       "      <th>7188</th>\n",
       "      <td>0</td>\n",
       "      <td>1</td>\n",
       "      <td>1</td>\n",
       "      <td>1235</td>\n",
       "      <td>1</td>\n",
       "    </tr>\n",
       "  </tbody>\n",
       "</table>\n",
       "<p>8546 rows × 5 columns</p>\n",
       "</div>"
      ],
      "text/plain": [
       "      Airline  Source  Destination  Duration  Total_Stops\n",
       "7023        0       3            4        85            0\n",
       "6078        1       1            1       150            0\n",
       "6150        2       1            1      1540            1\n",
       "1632        0       0            0      1090            2\n",
       "7845        0       0            0      1040            1\n",
       "...       ...     ...          ...       ...          ...\n",
       "57          5       4            5       135            0\n",
       "578         0       0            0       660            1\n",
       "5848        0       0            0       910            2\n",
       "2439        3       0            0       665            1\n",
       "7188        0       1            1      1235            1\n",
       "\n",
       "[8546 rows x 5 columns]"
      ]
     },
     "execution_count": 23,
     "metadata": {},
     "output_type": "execute_result"
    }
   ],
   "source": [
    "x_train"
   ]
  },
  {
   "cell_type": "code",
   "execution_count": 24,
   "id": "0c34712b",
   "metadata": {},
   "outputs": [
    {
     "data": {
      "text/plain": [
       "7023     4050\n",
       "6078     5224\n",
       "6150     7893\n",
       "1632    14237\n",
       "7845    10262\n",
       "        ...  \n",
       "57       7414\n",
       "578     14714\n",
       "5848    11507\n",
       "2439    12537\n",
       "7188    13759\n",
       "Name: Price, Length: 8546, dtype: int64"
      ]
     },
     "execution_count": 24,
     "metadata": {},
     "output_type": "execute_result"
    }
   ],
   "source": [
    "y_train"
   ]
  },
  {
   "cell_type": "markdown",
   "id": "b24b6e17",
   "metadata": {},
   "source": [
    "# Applying algoritms and Evaluating-"
   ]
  },
  {
   "cell_type": "markdown",
   "id": "28b43e55",
   "metadata": {},
   "source": [
    "## 1) Linear Regression-"
   ]
  },
  {
   "cell_type": "code",
   "execution_count": 25,
   "id": "1d6750d8",
   "metadata": {},
   "outputs": [
    {
     "data": {
      "text/plain": [
       "LinearRegression()"
      ]
     },
     "execution_count": 25,
     "metadata": {},
     "output_type": "execute_result"
    }
   ],
   "source": [
    "# Fitting the linear regression algorithm in training data-\n",
    "lr_model = LinearRegression()\n",
    "lr_model.fit(x_train, y_train) "
   ]
  },
  {
   "cell_type": "code",
   "execution_count": 26,
   "id": "2762d63c",
   "metadata": {},
   "outputs": [
    {
     "name": "stdout",
     "output_type": "stream",
     "text": [
      "mse is: 13806340.09492629\n",
      "mae is: 2474.980232491781\n",
      "R2 score is: 0.4015735834318642\n"
     ]
    }
   ],
   "source": [
    "# Evaluation by using Testing Data-\n",
    "y_pred= lr_model.predict(x_test)\n",
    "mse= mean_squared_error(y_test,y_pred)\n",
    "mae = mean_absolute_error(y_test,y_pred)\n",
    "r2_value = r2_score(y_test,y_pred)\n",
    "\n",
    "print(\"mse is:\", mse)\n",
    "print(\"mae is:\", mae)\n",
    "print(\"R2 score is:\", r2_value)"
   ]
  },
  {
   "cell_type": "code",
   "execution_count": 27,
   "id": "7c4056e3",
   "metadata": {},
   "outputs": [
    {
     "name": "stdout",
     "output_type": "stream",
     "text": [
      "mse is: 12166972.608722568\n",
      "mae is: 2410.909509045683\n",
      "R2 score is: 0.4153411967659565\n"
     ]
    }
   ],
   "source": [
    "# Evaluation by using Training Data-\n",
    "y_pred_train= lr_model.predict(x_train)\n",
    "mse= mean_squared_error(y_train,y_pred_train)\n",
    "mae = mean_absolute_error(y_train,y_pred_train)\n",
    "r2_value = r2_score(y_train,y_pred_train)\n",
    "\n",
    "print(\"mse is:\", mse)\n",
    "print(\"mae is:\", mae)\n",
    "print(\"R2 score is:\", r2_value)"
   ]
  },
  {
   "cell_type": "markdown",
   "id": "674ec7bf",
   "metadata": {},
   "source": [
    "##### Training Accuracy- 0.41\n",
    "##### Testing Accuracy - 0.40"
   ]
  },
  {
   "cell_type": "raw",
   "id": "2d068343",
   "metadata": {},
   "source": [
    "The R2 score for training and testing is vey low.\n",
    "So we will try to use normalization which is pre-available in LinearRegression."
   ]
  },
  {
   "cell_type": "code",
   "execution_count": 28,
   "id": "3b76f8dd",
   "metadata": {},
   "outputs": [
    {
     "name": "stderr",
     "output_type": "stream",
     "text": [
      "C:\\ProgramData\\Anaconda3\\lib\\site-packages\\sklearn\\linear_model\\_base.py:141: FutureWarning: 'normalize' was deprecated in version 1.0 and will be removed in 1.2.\n",
      "If you wish to scale the data, use Pipeline with a StandardScaler in a preprocessing stage. To reproduce the previous behavior:\n",
      "\n",
      "from sklearn.pipeline import make_pipeline\n",
      "\n",
      "model = make_pipeline(StandardScaler(with_mean=False), LinearRegression())\n",
      "\n",
      "If you wish to pass a sample_weight parameter, you need to pass it as a fit parameter to each step of the pipeline as follows:\n",
      "\n",
      "kwargs = {s[0] + '__sample_weight': sample_weight for s in model.steps}\n",
      "model.fit(X, y, **kwargs)\n",
      "\n",
      "\n",
      "  warnings.warn(\n"
     ]
    },
    {
     "data": {
      "text/plain": [
       "LinearRegression(normalize=True)"
      ]
     },
     "execution_count": 28,
     "metadata": {},
     "output_type": "execute_result"
    }
   ],
   "source": [
    "# Fitting the linear regression algorithm with Normalization-\n",
    "lr_model_norm = LinearRegression(normalize=True)\n",
    "lr_model_norm.fit(x_train, y_train)"
   ]
  },
  {
   "cell_type": "code",
   "execution_count": 29,
   "id": "101d13d5",
   "metadata": {},
   "outputs": [
    {
     "name": "stdout",
     "output_type": "stream",
     "text": [
      "mse is: 13806340.094926273\n",
      "mae is: 2474.980232491786\n",
      "R2 score is: 0.401573583431865\n"
     ]
    }
   ],
   "source": [
    "# Evaluation by using Testing Data-\n",
    "y_pred= lr_model_norm.predict(x_test)\n",
    "mse= mean_squared_error(y_test,y_pred)\n",
    "mae = mean_absolute_error(y_test,y_pred)\n",
    "r2_value = r2_score(y_test,y_pred)\n",
    "\n",
    "print(\"mse is:\", mse)\n",
    "print(\"mae is:\", mae)\n",
    "print(\"R2 score is:\", r2_value)"
   ]
  },
  {
   "cell_type": "code",
   "execution_count": 30,
   "id": "400af3f7",
   "metadata": {},
   "outputs": [
    {
     "name": "stdout",
     "output_type": "stream",
     "text": [
      "mse is: 12166972.608722564\n",
      "mae is: 2410.9095090456885\n",
      "R2 score is: 0.4153411967659566\n"
     ]
    }
   ],
   "source": [
    "# Evaluation by using Training Data-\n",
    "y_pred_train= lr_model_norm.predict(x_train)\n",
    "mse= mean_squared_error(y_train,y_pred_train)\n",
    "mae = mean_absolute_error(y_train,y_pred_train)\n",
    "r2_value = r2_score(y_train,y_pred_train)\n",
    "\n",
    "print(\"mse is:\", mse)\n",
    "print(\"mae is:\", mae)\n",
    "print(\"R2 score is:\", r2_value)"
   ]
  },
  {
   "cell_type": "markdown",
   "id": "74feffdf",
   "metadata": {},
   "source": [
    "##### Training Accuracy- 0.41\n",
    "##### Testing Accuracy - 0.40"
   ]
  },
  {
   "cell_type": "raw",
   "id": "8e043b80",
   "metadata": {},
   "source": [
    "We can observe there is no positive effect of normalization on Linear Regression for this dataset. So we will go for KNN"
   ]
  },
  {
   "cell_type": "markdown",
   "id": "80869146",
   "metadata": {},
   "source": [
    "##### Training Accuracy- 0.40\n",
    "##### Testing Accuracy - 0.41"
   ]
  },
  {
   "cell_type": "code",
   "execution_count": null,
   "id": "d90ef546",
   "metadata": {},
   "outputs": [],
   "source": []
  },
  {
   "cell_type": "markdown",
   "id": "4305bf83",
   "metadata": {},
   "source": [
    "## KNN "
   ]
  },
  {
   "cell_type": "code",
   "execution_count": 31,
   "id": "59d72f17",
   "metadata": {},
   "outputs": [
    {
     "data": {
      "text/plain": [
       "KNeighborsRegressor()"
      ]
     },
     "execution_count": 31,
     "metadata": {},
     "output_type": "execute_result"
    }
   ],
   "source": [
    "# Creating instance of KNNRegressor and fitting that into training data-\n",
    "knn_reg = KNeighborsRegressor()   # Used default parameters\n",
    "knn_reg.fit(x_train,y_train)"
   ]
  },
  {
   "cell_type": "code",
   "execution_count": 32,
   "id": "7f8e4ed5",
   "metadata": {},
   "outputs": [
    {
     "name": "stdout",
     "output_type": "stream",
     "text": [
      "mse is: 11256906.16707534\n",
      "mae is: 1857.8364061768837\n",
      "R2 score is: 0.5120770622127278\n"
     ]
    }
   ],
   "source": [
    "# Evaluation by using Testing Data-\n",
    "y_pred= knn_reg.predict(x_test)\n",
    "mse= mean_squared_error(y_test,y_pred)\n",
    "mae = mean_absolute_error(y_test,y_pred)\n",
    "r2_value = r2_score(y_test,y_pred)\n",
    "\n",
    "print(\"mse is:\", mse)\n",
    "print(\"mae is:\", mae)\n",
    "print(\"R2 score is:\", r2_value)"
   ]
  },
  {
   "cell_type": "code",
   "execution_count": 33,
   "id": "b1748b80",
   "metadata": {},
   "outputs": [
    {
     "name": "stdout",
     "output_type": "stream",
     "text": [
      "mse is: 7547957.543664871\n",
      "mae is: 1643.285186051954\n",
      "R2 score is: 0.6372984499712948\n"
     ]
    }
   ],
   "source": [
    "# Evaluation by using Training Data-\n",
    "y_pred_train= knn_reg.predict(x_train)\n",
    "mse= mean_squared_error(y_train,y_pred_train)\n",
    "mae = mean_absolute_error(y_train,y_pred_train)\n",
    "r2_value = r2_score(y_train,y_pred_train)\n",
    "\n",
    "print(\"mse is:\", mse)\n",
    "print(\"mae is:\", mae)\n",
    "print(\"R2 score is:\", r2_value)"
   ]
  },
  {
   "cell_type": "markdown",
   "id": "32291efb",
   "metadata": {},
   "source": [
    "##### Training Accuracy- 0.51\n",
    "##### Testing Accuracy - 0.63"
   ]
  },
  {
   "cell_type": "raw",
   "id": "f247fab0",
   "metadata": {},
   "source": [
    "As we can see accuracy is not so good then we can go for Scaling-"
   ]
  },
  {
   "cell_type": "code",
   "execution_count": null,
   "id": "ce72c180",
   "metadata": {},
   "outputs": [],
   "source": []
  },
  {
   "cell_type": "markdown",
   "id": "958611e9",
   "metadata": {},
   "source": [
    "### Scaling"
   ]
  },
  {
   "cell_type": "markdown",
   "id": "96de8274",
   "metadata": {},
   "source": [
    "#### Normalization-"
   ]
  },
  {
   "cell_type": "code",
   "execution_count": 34,
   "id": "0ea5790b",
   "metadata": {},
   "outputs": [
    {
     "data": {
      "text/html": [
       "<div>\n",
       "<style scoped>\n",
       "    .dataframe tbody tr th:only-of-type {\n",
       "        vertical-align: middle;\n",
       "    }\n",
       "\n",
       "    .dataframe tbody tr th {\n",
       "        vertical-align: top;\n",
       "    }\n",
       "\n",
       "    .dataframe thead th {\n",
       "        text-align: right;\n",
       "    }\n",
       "</style>\n",
       "<table border=\"1\" class=\"dataframe\">\n",
       "  <thead>\n",
       "    <tr style=\"text-align: right;\">\n",
       "      <th></th>\n",
       "      <th>Airline</th>\n",
       "      <th>Source</th>\n",
       "      <th>Destination</th>\n",
       "      <th>Duration</th>\n",
       "      <th>Total_Stops</th>\n",
       "    </tr>\n",
       "  </thead>\n",
       "  <tbody>\n",
       "    <tr>\n",
       "      <th>0</th>\n",
       "      <td>0.000000</td>\n",
       "      <td>0.75</td>\n",
       "      <td>0.8</td>\n",
       "      <td>0.028021</td>\n",
       "      <td>0.00</td>\n",
       "    </tr>\n",
       "    <tr>\n",
       "      <th>1</th>\n",
       "      <td>0.090909</td>\n",
       "      <td>0.25</td>\n",
       "      <td>0.2</td>\n",
       "      <td>0.050788</td>\n",
       "      <td>0.00</td>\n",
       "    </tr>\n",
       "    <tr>\n",
       "      <th>2</th>\n",
       "      <td>0.181818</td>\n",
       "      <td>0.25</td>\n",
       "      <td>0.2</td>\n",
       "      <td>0.537653</td>\n",
       "      <td>0.25</td>\n",
       "    </tr>\n",
       "    <tr>\n",
       "      <th>3</th>\n",
       "      <td>0.000000</td>\n",
       "      <td>0.00</td>\n",
       "      <td>0.0</td>\n",
       "      <td>0.380035</td>\n",
       "      <td>0.50</td>\n",
       "    </tr>\n",
       "    <tr>\n",
       "      <th>4</th>\n",
       "      <td>0.000000</td>\n",
       "      <td>0.00</td>\n",
       "      <td>0.0</td>\n",
       "      <td>0.362522</td>\n",
       "      <td>0.25</td>\n",
       "    </tr>\n",
       "    <tr>\n",
       "      <th>...</th>\n",
       "      <td>...</td>\n",
       "      <td>...</td>\n",
       "      <td>...</td>\n",
       "      <td>...</td>\n",
       "      <td>...</td>\n",
       "    </tr>\n",
       "    <tr>\n",
       "      <th>8541</th>\n",
       "      <td>0.454545</td>\n",
       "      <td>1.00</td>\n",
       "      <td>1.0</td>\n",
       "      <td>0.045534</td>\n",
       "      <td>0.00</td>\n",
       "    </tr>\n",
       "    <tr>\n",
       "      <th>8542</th>\n",
       "      <td>0.000000</td>\n",
       "      <td>0.00</td>\n",
       "      <td>0.0</td>\n",
       "      <td>0.229422</td>\n",
       "      <td>0.25</td>\n",
       "    </tr>\n",
       "    <tr>\n",
       "      <th>8543</th>\n",
       "      <td>0.000000</td>\n",
       "      <td>0.00</td>\n",
       "      <td>0.0</td>\n",
       "      <td>0.316988</td>\n",
       "      <td>0.50</td>\n",
       "    </tr>\n",
       "    <tr>\n",
       "      <th>8544</th>\n",
       "      <td>0.272727</td>\n",
       "      <td>0.00</td>\n",
       "      <td>0.0</td>\n",
       "      <td>0.231173</td>\n",
       "      <td>0.25</td>\n",
       "    </tr>\n",
       "    <tr>\n",
       "      <th>8545</th>\n",
       "      <td>0.000000</td>\n",
       "      <td>0.25</td>\n",
       "      <td>0.2</td>\n",
       "      <td>0.430823</td>\n",
       "      <td>0.25</td>\n",
       "    </tr>\n",
       "  </tbody>\n",
       "</table>\n",
       "<p>8546 rows × 5 columns</p>\n",
       "</div>"
      ],
      "text/plain": [
       "       Airline  Source  Destination  Duration  Total_Stops\n",
       "0     0.000000    0.75          0.8  0.028021         0.00\n",
       "1     0.090909    0.25          0.2  0.050788         0.00\n",
       "2     0.181818    0.25          0.2  0.537653         0.25\n",
       "3     0.000000    0.00          0.0  0.380035         0.50\n",
       "4     0.000000    0.00          0.0  0.362522         0.25\n",
       "...        ...     ...          ...       ...          ...\n",
       "8541  0.454545    1.00          1.0  0.045534         0.00\n",
       "8542  0.000000    0.00          0.0  0.229422         0.25\n",
       "8543  0.000000    0.00          0.0  0.316988         0.50\n",
       "8544  0.272727    0.00          0.0  0.231173         0.25\n",
       "8545  0.000000    0.25          0.2  0.430823         0.25\n",
       "\n",
       "[8546 rows x 5 columns]"
      ]
     },
     "execution_count": 34,
     "metadata": {},
     "output_type": "execute_result"
    }
   ],
   "source": [
    "# Converting to normalized scale-\n",
    "normal_scaler = MinMaxScaler()\n",
    "normal_scaler.fit(x_train)\n",
    "array = normal_scaler.transform(x_train)\n",
    "x_train_norm = pd.DataFrame(array,columns = x_train.columns)\n",
    "x_train_norm"
   ]
  },
  {
   "cell_type": "code",
   "execution_count": 35,
   "id": "bc4f6a7c",
   "metadata": {},
   "outputs": [
    {
     "data": {
      "text/html": [
       "<div>\n",
       "<style scoped>\n",
       "    .dataframe tbody tr th:only-of-type {\n",
       "        vertical-align: middle;\n",
       "    }\n",
       "\n",
       "    .dataframe tbody tr th {\n",
       "        vertical-align: top;\n",
       "    }\n",
       "\n",
       "    .dataframe thead th {\n",
       "        text-align: right;\n",
       "    }\n",
       "</style>\n",
       "<table border=\"1\" class=\"dataframe\">\n",
       "  <thead>\n",
       "    <tr style=\"text-align: right;\">\n",
       "      <th></th>\n",
       "      <th>Airline</th>\n",
       "      <th>Source</th>\n",
       "      <th>Destination</th>\n",
       "      <th>Duration</th>\n",
       "      <th>Total_Stops</th>\n",
       "    </tr>\n",
       "  </thead>\n",
       "  <tbody>\n",
       "    <tr>\n",
       "      <th>0</th>\n",
       "      <td>0.000000</td>\n",
       "      <td>0.25</td>\n",
       "      <td>0.2</td>\n",
       "      <td>0.357268</td>\n",
       "      <td>0.25</td>\n",
       "    </tr>\n",
       "    <tr>\n",
       "      <th>1</th>\n",
       "      <td>0.181818</td>\n",
       "      <td>0.00</td>\n",
       "      <td>0.0</td>\n",
       "      <td>0.551664</td>\n",
       "      <td>0.50</td>\n",
       "    </tr>\n",
       "    <tr>\n",
       "      <th>2</th>\n",
       "      <td>0.000000</td>\n",
       "      <td>0.00</td>\n",
       "      <td>0.0</td>\n",
       "      <td>0.416813</td>\n",
       "      <td>0.50</td>\n",
       "    </tr>\n",
       "    <tr>\n",
       "      <th>3</th>\n",
       "      <td>0.090909</td>\n",
       "      <td>0.25</td>\n",
       "      <td>0.2</td>\n",
       "      <td>0.056042</td>\n",
       "      <td>0.00</td>\n",
       "    </tr>\n",
       "    <tr>\n",
       "      <th>4</th>\n",
       "      <td>0.000000</td>\n",
       "      <td>0.25</td>\n",
       "      <td>0.2</td>\n",
       "      <td>0.376532</td>\n",
       "      <td>0.25</td>\n",
       "    </tr>\n",
       "    <tr>\n",
       "      <th>...</th>\n",
       "      <td>...</td>\n",
       "      <td>...</td>\n",
       "      <td>...</td>\n",
       "      <td>...</td>\n",
       "      <td>...</td>\n",
       "    </tr>\n",
       "    <tr>\n",
       "      <th>2132</th>\n",
       "      <td>0.090909</td>\n",
       "      <td>0.00</td>\n",
       "      <td>0.0</td>\n",
       "      <td>0.197898</td>\n",
       "      <td>0.25</td>\n",
       "    </tr>\n",
       "    <tr>\n",
       "      <th>2133</th>\n",
       "      <td>0.000000</td>\n",
       "      <td>0.50</td>\n",
       "      <td>0.6</td>\n",
       "      <td>0.304729</td>\n",
       "      <td>0.25</td>\n",
       "    </tr>\n",
       "    <tr>\n",
       "      <th>2134</th>\n",
       "      <td>0.000000</td>\n",
       "      <td>0.00</td>\n",
       "      <td>0.0</td>\n",
       "      <td>0.281961</td>\n",
       "      <td>0.50</td>\n",
       "    </tr>\n",
       "    <tr>\n",
       "      <th>2135</th>\n",
       "      <td>0.181818</td>\n",
       "      <td>0.00</td>\n",
       "      <td>0.0</td>\n",
       "      <td>0.495622</td>\n",
       "      <td>0.25</td>\n",
       "    </tr>\n",
       "    <tr>\n",
       "      <th>2136</th>\n",
       "      <td>0.363636</td>\n",
       "      <td>0.50</td>\n",
       "      <td>0.4</td>\n",
       "      <td>0.059545</td>\n",
       "      <td>0.00</td>\n",
       "    </tr>\n",
       "  </tbody>\n",
       "</table>\n",
       "<p>2137 rows × 5 columns</p>\n",
       "</div>"
      ],
      "text/plain": [
       "       Airline  Source  Destination  Duration  Total_Stops\n",
       "0     0.000000    0.25          0.2  0.357268         0.25\n",
       "1     0.181818    0.00          0.0  0.551664         0.50\n",
       "2     0.000000    0.00          0.0  0.416813         0.50\n",
       "3     0.090909    0.25          0.2  0.056042         0.00\n",
       "4     0.000000    0.25          0.2  0.376532         0.25\n",
       "...        ...     ...          ...       ...          ...\n",
       "2132  0.090909    0.00          0.0  0.197898         0.25\n",
       "2133  0.000000    0.50          0.6  0.304729         0.25\n",
       "2134  0.000000    0.00          0.0  0.281961         0.50\n",
       "2135  0.181818    0.00          0.0  0.495622         0.25\n",
       "2136  0.363636    0.50          0.4  0.059545         0.00\n",
       "\n",
       "[2137 rows x 5 columns]"
      ]
     },
     "execution_count": 35,
     "metadata": {},
     "output_type": "execute_result"
    }
   ],
   "source": [
    "array = normal_scaler.transform(x_test)\n",
    "x_test_norm = pd.DataFrame(array,columns = x_test.columns)\n",
    "x_test_norm"
   ]
  },
  {
   "cell_type": "code",
   "execution_count": 73,
   "id": "f2f4dc65",
   "metadata": {},
   "outputs": [
    {
     "data": {
      "text/plain": [
       "KNeighborsRegressor()"
      ]
     },
     "execution_count": 73,
     "metadata": {},
     "output_type": "execute_result"
    }
   ],
   "source": [
    "knn_norm = KNeighborsRegressor()\n",
    "knn_norm.fit(x_train_norm,y_train)"
   ]
  },
  {
   "cell_type": "code",
   "execution_count": 74,
   "id": "26b95286",
   "metadata": {},
   "outputs": [
    {
     "name": "stdout",
     "output_type": "stream",
     "text": [
      "mse is: 9914077.29525503\n",
      "mae is: 1823.3082142544513\n",
      "R2 score is: 0.6436751076525782\n"
     ]
    }
   ],
   "source": [
    "# Evaluation by using Testing Data-\n",
    "y_pred_norm= knn_norm.predict(x_test_norm)\n",
    "mse= mean_squared_error(y_test,y_pred_norm)\n",
    "mae = mean_absolute_error(y_test,y_pred)\n",
    "r2_value = r2_score(y_test,y_pred)\n",
    "\n",
    "print(\"mse is:\", mse)\n",
    "print(\"mae is:\", mae)\n",
    "print(\"R2 score is:\", r2_value)"
   ]
  },
  {
   "cell_type": "code",
   "execution_count": 75,
   "id": "9fb4b23a",
   "metadata": {},
   "outputs": [
    {
     "name": "stdout",
     "output_type": "stream",
     "text": [
      "mse is: 6862642.236882753\n",
      "mae is: 1612.7086824245262\n",
      "R2 score is: 0.6702298652038694\n"
     ]
    }
   ],
   "source": [
    "# Evaluation by using Training Data-\n",
    "y_pred_train= knn_norm.predict(x_train_norm)\n",
    "mse= mean_squared_error(y_train,y_pred_train)\n",
    "mae = mean_absolute_error(y_train,y_pred_train)\n",
    "r2_value = r2_score(y_train,y_pred_train)\n",
    "\n",
    "print(\"mse is:\", mse)\n",
    "print(\"mae is:\", mae)\n",
    "print(\"R2 score is:\", r2_value)"
   ]
  },
  {
   "cell_type": "markdown",
   "id": "5e1df901",
   "metadata": {},
   "source": [
    "##### Training Accuracy- 067\n",
    "##### Testing Accuracy - 0.64"
   ]
  },
  {
   "cell_type": "markdown",
   "id": "3fe3b4a7",
   "metadata": {},
   "source": [
    "### Standardzation"
   ]
  },
  {
   "cell_type": "code",
   "execution_count": 38,
   "id": "36b823db",
   "metadata": {},
   "outputs": [
    {
     "data": {
      "text/html": [
       "<div>\n",
       "<style scoped>\n",
       "    .dataframe tbody tr th:only-of-type {\n",
       "        vertical-align: middle;\n",
       "    }\n",
       "\n",
       "    .dataframe tbody tr th {\n",
       "        vertical-align: top;\n",
       "    }\n",
       "\n",
       "    .dataframe thead th {\n",
       "        text-align: right;\n",
       "    }\n",
       "</style>\n",
       "<table border=\"1\" class=\"dataframe\">\n",
       "  <thead>\n",
       "    <tr style=\"text-align: right;\">\n",
       "      <th></th>\n",
       "      <th>Airline</th>\n",
       "      <th>Source</th>\n",
       "      <th>Destination</th>\n",
       "      <th>Duration</th>\n",
       "      <th>Total_Stops</th>\n",
       "    </tr>\n",
       "  </thead>\n",
       "  <tbody>\n",
       "    <tr>\n",
       "      <th>0</th>\n",
       "      <td>-0.930415</td>\n",
       "      <td>1.824565</td>\n",
       "      <td>1.997481</td>\n",
       "      <td>-1.102688</td>\n",
       "      <td>-1.225676</td>\n",
       "    </tr>\n",
       "    <tr>\n",
       "      <th>1</th>\n",
       "      <td>-0.387032</td>\n",
       "      <td>-0.008149</td>\n",
       "      <td>-0.138286</td>\n",
       "      <td>-0.974992</td>\n",
       "      <td>-1.225676</td>\n",
       "    </tr>\n",
       "    <tr>\n",
       "      <th>2</th>\n",
       "      <td>0.156351</td>\n",
       "      <td>-0.008149</td>\n",
       "      <td>-0.138286</td>\n",
       "      <td>1.755747</td>\n",
       "      <td>0.257352</td>\n",
       "    </tr>\n",
       "    <tr>\n",
       "      <th>3</th>\n",
       "      <td>-0.930415</td>\n",
       "      <td>-0.924506</td>\n",
       "      <td>-0.850208</td>\n",
       "      <td>0.871695</td>\n",
       "      <td>1.740380</td>\n",
       "    </tr>\n",
       "    <tr>\n",
       "      <th>4</th>\n",
       "      <td>-0.930415</td>\n",
       "      <td>-0.924506</td>\n",
       "      <td>-0.850208</td>\n",
       "      <td>0.773467</td>\n",
       "      <td>0.257352</td>\n",
       "    </tr>\n",
       "    <tr>\n",
       "      <th>...</th>\n",
       "      <td>...</td>\n",
       "      <td>...</td>\n",
       "      <td>...</td>\n",
       "      <td>...</td>\n",
       "      <td>...</td>\n",
       "    </tr>\n",
       "    <tr>\n",
       "      <th>8541</th>\n",
       "      <td>1.786501</td>\n",
       "      <td>2.740921</td>\n",
       "      <td>2.709403</td>\n",
       "      <td>-1.004460</td>\n",
       "      <td>-1.225676</td>\n",
       "    </tr>\n",
       "    <tr>\n",
       "      <th>8542</th>\n",
       "      <td>-0.930415</td>\n",
       "      <td>-0.924506</td>\n",
       "      <td>-0.850208</td>\n",
       "      <td>0.026934</td>\n",
       "      <td>0.257352</td>\n",
       "    </tr>\n",
       "    <tr>\n",
       "      <th>8543</th>\n",
       "      <td>-0.930415</td>\n",
       "      <td>-0.924506</td>\n",
       "      <td>-0.850208</td>\n",
       "      <td>0.518074</td>\n",
       "      <td>1.740380</td>\n",
       "    </tr>\n",
       "    <tr>\n",
       "      <th>8544</th>\n",
       "      <td>0.699735</td>\n",
       "      <td>-0.924506</td>\n",
       "      <td>-0.850208</td>\n",
       "      <td>0.036757</td>\n",
       "      <td>0.257352</td>\n",
       "    </tr>\n",
       "    <tr>\n",
       "      <th>8545</th>\n",
       "      <td>-0.930415</td>\n",
       "      <td>-0.008149</td>\n",
       "      <td>-0.138286</td>\n",
       "      <td>1.156556</td>\n",
       "      <td>0.257352</td>\n",
       "    </tr>\n",
       "  </tbody>\n",
       "</table>\n",
       "<p>8546 rows × 5 columns</p>\n",
       "</div>"
      ],
      "text/plain": [
       "       Airline    Source  Destination  Duration  Total_Stops\n",
       "0    -0.930415  1.824565     1.997481 -1.102688    -1.225676\n",
       "1    -0.387032 -0.008149    -0.138286 -0.974992    -1.225676\n",
       "2     0.156351 -0.008149    -0.138286  1.755747     0.257352\n",
       "3    -0.930415 -0.924506    -0.850208  0.871695     1.740380\n",
       "4    -0.930415 -0.924506    -0.850208  0.773467     0.257352\n",
       "...        ...       ...          ...       ...          ...\n",
       "8541  1.786501  2.740921     2.709403 -1.004460    -1.225676\n",
       "8542 -0.930415 -0.924506    -0.850208  0.026934     0.257352\n",
       "8543 -0.930415 -0.924506    -0.850208  0.518074     1.740380\n",
       "8544  0.699735 -0.924506    -0.850208  0.036757     0.257352\n",
       "8545 -0.930415 -0.008149    -0.138286  1.156556     0.257352\n",
       "\n",
       "[8546 rows x 5 columns]"
      ]
     },
     "execution_count": 38,
     "metadata": {},
     "output_type": "execute_result"
    }
   ],
   "source": [
    "std_scalar = StandardScaler()\n",
    "std_scalar.fit(x_train)\n",
    "array = std_scalar.transform(x_train)\n",
    "x_train_std = pd.DataFrame(array, columns=x_train.columns)\n",
    "x_train_std"
   ]
  },
  {
   "cell_type": "code",
   "execution_count": 39,
   "id": "1d0a3ca8",
   "metadata": {},
   "outputs": [
    {
     "data": {
      "text/html": [
       "<div>\n",
       "<style scoped>\n",
       "    .dataframe tbody tr th:only-of-type {\n",
       "        vertical-align: middle;\n",
       "    }\n",
       "\n",
       "    .dataframe tbody tr th {\n",
       "        vertical-align: top;\n",
       "    }\n",
       "\n",
       "    .dataframe thead th {\n",
       "        text-align: right;\n",
       "    }\n",
       "</style>\n",
       "<table border=\"1\" class=\"dataframe\">\n",
       "  <thead>\n",
       "    <tr style=\"text-align: right;\">\n",
       "      <th></th>\n",
       "      <th>Airline</th>\n",
       "      <th>Source</th>\n",
       "      <th>Destination</th>\n",
       "      <th>Duration</th>\n",
       "      <th>Total_Stops</th>\n",
       "    </tr>\n",
       "  </thead>\n",
       "  <tbody>\n",
       "    <tr>\n",
       "      <th>0</th>\n",
       "      <td>-0.930415</td>\n",
       "      <td>-0.008149</td>\n",
       "      <td>-0.138286</td>\n",
       "      <td>0.743999</td>\n",
       "      <td>0.257352</td>\n",
       "    </tr>\n",
       "    <tr>\n",
       "      <th>1</th>\n",
       "      <td>0.156351</td>\n",
       "      <td>-0.924506</td>\n",
       "      <td>-0.850208</td>\n",
       "      <td>1.834330</td>\n",
       "      <td>1.740380</td>\n",
       "    </tr>\n",
       "    <tr>\n",
       "      <th>2</th>\n",
       "      <td>-0.930415</td>\n",
       "      <td>-0.924506</td>\n",
       "      <td>-0.850208</td>\n",
       "      <td>1.077974</td>\n",
       "      <td>1.740380</td>\n",
       "    </tr>\n",
       "    <tr>\n",
       "      <th>3</th>\n",
       "      <td>-0.387032</td>\n",
       "      <td>-0.008149</td>\n",
       "      <td>-0.138286</td>\n",
       "      <td>-0.945523</td>\n",
       "      <td>-1.225676</td>\n",
       "    </tr>\n",
       "    <tr>\n",
       "      <th>4</th>\n",
       "      <td>-0.930415</td>\n",
       "      <td>-0.008149</td>\n",
       "      <td>-0.138286</td>\n",
       "      <td>0.852049</td>\n",
       "      <td>0.257352</td>\n",
       "    </tr>\n",
       "    <tr>\n",
       "      <th>...</th>\n",
       "      <td>...</td>\n",
       "      <td>...</td>\n",
       "      <td>...</td>\n",
       "      <td>...</td>\n",
       "      <td>...</td>\n",
       "    </tr>\n",
       "    <tr>\n",
       "      <th>2132</th>\n",
       "      <td>-0.387032</td>\n",
       "      <td>-0.924506</td>\n",
       "      <td>-0.850208</td>\n",
       "      <td>-0.149876</td>\n",
       "      <td>0.257352</td>\n",
       "    </tr>\n",
       "    <tr>\n",
       "      <th>2133</th>\n",
       "      <td>-0.930415</td>\n",
       "      <td>0.908208</td>\n",
       "      <td>1.285559</td>\n",
       "      <td>0.449314</td>\n",
       "      <td>0.257352</td>\n",
       "    </tr>\n",
       "    <tr>\n",
       "      <th>2134</th>\n",
       "      <td>-0.930415</td>\n",
       "      <td>-0.924506</td>\n",
       "      <td>-0.850208</td>\n",
       "      <td>0.321618</td>\n",
       "      <td>1.740380</td>\n",
       "    </tr>\n",
       "    <tr>\n",
       "      <th>2135</th>\n",
       "      <td>0.156351</td>\n",
       "      <td>-0.924506</td>\n",
       "      <td>-0.850208</td>\n",
       "      <td>1.520000</td>\n",
       "      <td>0.257352</td>\n",
       "    </tr>\n",
       "    <tr>\n",
       "      <th>2136</th>\n",
       "      <td>1.243118</td>\n",
       "      <td>0.908208</td>\n",
       "      <td>0.573636</td>\n",
       "      <td>-0.925878</td>\n",
       "      <td>-1.225676</td>\n",
       "    </tr>\n",
       "  </tbody>\n",
       "</table>\n",
       "<p>2137 rows × 5 columns</p>\n",
       "</div>"
      ],
      "text/plain": [
       "       Airline    Source  Destination  Duration  Total_Stops\n",
       "0    -0.930415 -0.008149    -0.138286  0.743999     0.257352\n",
       "1     0.156351 -0.924506    -0.850208  1.834330     1.740380\n",
       "2    -0.930415 -0.924506    -0.850208  1.077974     1.740380\n",
       "3    -0.387032 -0.008149    -0.138286 -0.945523    -1.225676\n",
       "4    -0.930415 -0.008149    -0.138286  0.852049     0.257352\n",
       "...        ...       ...          ...       ...          ...\n",
       "2132 -0.387032 -0.924506    -0.850208 -0.149876     0.257352\n",
       "2133 -0.930415  0.908208     1.285559  0.449314     0.257352\n",
       "2134 -0.930415 -0.924506    -0.850208  0.321618     1.740380\n",
       "2135  0.156351 -0.924506    -0.850208  1.520000     0.257352\n",
       "2136  1.243118  0.908208     0.573636 -0.925878    -1.225676\n",
       "\n",
       "[2137 rows x 5 columns]"
      ]
     },
     "execution_count": 39,
     "metadata": {},
     "output_type": "execute_result"
    }
   ],
   "source": [
    "array = std_scalar.transform(x_test)\n",
    "x_test_std = pd.DataFrame(array, columns = x_train.columns)\n",
    "x_test_std"
   ]
  },
  {
   "cell_type": "code",
   "execution_count": 40,
   "id": "e31a04b9",
   "metadata": {},
   "outputs": [
    {
     "data": {
      "text/plain": [
       "KNeighborsRegressor()"
      ]
     },
     "execution_count": 40,
     "metadata": {},
     "output_type": "execute_result"
    }
   ],
   "source": [
    "knn = KNeighborsRegressor()\n",
    "knn.fit(x_train_std,y_train)"
   ]
  },
  {
   "cell_type": "code",
   "execution_count": 41,
   "id": "cb3d2dca",
   "metadata": {},
   "outputs": [
    {
     "name": "stdout",
     "output_type": "stream",
     "text": [
      "mse is: 9946291.571867103\n",
      "mae is: 1795.2714085166122\n",
      "R2 score is: 0.5688847600037295\n"
     ]
    }
   ],
   "source": [
    "# Evaluation by using Testing Data-\n",
    "y_pred= knn.predict(x_test_std)\n",
    "mse= mean_squared_error(y_test,y_pred)\n",
    "mae = mean_absolute_error(y_test,y_pred)\n",
    "r2_value = r2_score(y_test,y_pred)\n",
    "\n",
    "print(\"mse is:\", mse)\n",
    "print(\"mae is:\", mae)\n",
    "print(\"R2 score is:\", r2_value)"
   ]
  },
  {
   "cell_type": "code",
   "execution_count": 42,
   "id": "64cb1a81",
   "metadata": {},
   "outputs": [
    {
     "name": "stdout",
     "output_type": "stream",
     "text": [
      "mse is: 6987184.694879475\n",
      "mae is: 1616.9080037444419\n",
      "R2 score is: 0.6642452339578034\n"
     ]
    }
   ],
   "source": [
    "# Evaluation by using Training Data-\n",
    "y_pred_train= knn.predict(x_train_std)\n",
    "mse= mean_squared_error(y_train,y_pred_train)\n",
    "mae = mean_absolute_error(y_train,y_pred_train)\n",
    "r2_value = r2_score(y_train,y_pred_train)\n",
    "\n",
    "print(\"mse is:\", mse)\n",
    "print(\"mae is:\", mae)\n",
    "print(\"R2 score is:\", r2_value)"
   ]
  },
  {
   "cell_type": "markdown",
   "id": "53f576e3",
   "metadata": {},
   "source": [
    "##### Training Accuracy- 0.66\n",
    "##### Testing Accuracy - 0.56"
   ]
  },
  {
   "cell_type": "code",
   "execution_count": null,
   "id": "e48d3de0",
   "metadata": {},
   "outputs": [],
   "source": []
  },
  {
   "cell_type": "markdown",
   "id": "961bb6f8",
   "metadata": {},
   "source": [
    "### Hyperparameter Tuning in KNN Normalization-"
   ]
  },
  {
   "cell_type": "code",
   "execution_count": 76,
   "id": "53e876f6",
   "metadata": {},
   "outputs": [
    {
     "data": {
      "text/plain": [
       "GridSearchCV(cv=5, estimator=KNeighborsRegressor(),\n",
       "             param_grid={'n_neighbors': array([ 3,  4,  5,  6,  7,  8,  9, 10, 11, 12, 13, 14, 15, 16, 17, 18, 19,\n",
       "       20, 21, 22, 23, 24, 25, 26, 27, 28, 29]),\n",
       "                         'p': [1, 2]})"
      ]
     },
     "execution_count": 76,
     "metadata": {},
     "output_type": "execute_result"
    }
   ],
   "source": [
    "knn_reg =KNeighborsRegressor()\n",
    "\n",
    "hyperparameters = {\"n_neighbors\": np.arange(3,30), \"p\":[1,2]}\n",
    "\n",
    "gscv = GridSearchCV(knn_reg,hyperparameters,cv=5)\n",
    "gscv.fit(x_train_norm,y_train)"
   ]
  },
  {
   "cell_type": "code",
   "execution_count": 77,
   "id": "c3fc5fcb",
   "metadata": {},
   "outputs": [
    {
     "data": {
      "text/plain": [
       "KNeighborsRegressor(n_neighbors=10, p=1)"
      ]
     },
     "execution_count": 77,
     "metadata": {},
     "output_type": "execute_result"
    }
   ],
   "source": [
    "# To get best hyperparameters-\n",
    "gscv.best_estimator_"
   ]
  },
  {
   "cell_type": "code",
   "execution_count": 78,
   "id": "52018cac",
   "metadata": {},
   "outputs": [
    {
     "data": {
      "text/plain": [
       "KNeighborsRegressor(n_neighbors=10, p=1)"
      ]
     },
     "execution_count": 78,
     "metadata": {},
     "output_type": "execute_result"
    }
   ],
   "source": [
    "knn_reg = KNeighborsRegressor(n_neighbors=10, p=1)\n",
    "knn_reg.fit(x_train_norm,y_train)"
   ]
  },
  {
   "cell_type": "code",
   "execution_count": 80,
   "id": "114d2a74",
   "metadata": {},
   "outputs": [
    {
     "name": "stdout",
     "output_type": "stream",
     "text": [
      "mse is: 9728068.76689752\n",
      "mae is: 1765.7822180627045\n",
      "R2 score is: 0.5783434789903337\n"
     ]
    }
   ],
   "source": [
    "# Evaluation by using Testing Data-\n",
    "y_pred= knn_reg.predict(x_test_norm)\n",
    "mse= mean_squared_error(y_test,y_pred)\n",
    "mae = mean_absolute_error(y_test,y_pred)\n",
    "r2_value = r2_score(y_test,y_pred)\n",
    "\n",
    "print(\"mse is:\", mse)\n",
    "print(\"mae is:\", mae)\n",
    "print(\"R2 score is:\", r2_value)"
   ]
  },
  {
   "cell_type": "code",
   "execution_count": 81,
   "id": "8e4fe441",
   "metadata": {},
   "outputs": [
    {
     "name": "stdout",
     "output_type": "stream",
     "text": [
      "mse is: 7125906.957741634\n",
      "mae is: 1629.2397612918323\n",
      "R2 score is: 0.657579221401092\n"
     ]
    }
   ],
   "source": [
    "# Evaluation by using Training Data-\n",
    "y_pred_train= knn_reg.predict(x_train_norm)\n",
    "mse= mean_squared_error(y_train,y_pred_train)\n",
    "mae = mean_absolute_error(y_train,y_pred_train)\n",
    "r2_value = r2_score(y_train,y_pred_train)\n",
    "\n",
    "print(\"mse is:\", mse)\n",
    "print(\"mae is:\", mae)\n",
    "print(\"R2 score is:\", r2_value)"
   ]
  },
  {
   "cell_type": "markdown",
   "id": "0dc1f31e",
   "metadata": {},
   "source": [
    "##### Training Accuracy- 0.65\n",
    "##### Testing Accuracy - 0.57"
   ]
  },
  {
   "cell_type": "code",
   "execution_count": null,
   "id": "68bf2184",
   "metadata": {},
   "outputs": [],
   "source": []
  },
  {
   "cell_type": "markdown",
   "id": "703dc3ab",
   "metadata": {},
   "source": [
    "### Hyperparameter Tuning in KNN Standardization-"
   ]
  },
  {
   "cell_type": "code",
   "execution_count": 43,
   "id": "e9a3135e",
   "metadata": {},
   "outputs": [
    {
     "data": {
      "text/plain": [
       "GridSearchCV(cv=5, estimator=KNeighborsRegressor(),\n",
       "             param_grid={'n_neighbors': array([ 3,  4,  5,  6,  7,  8,  9, 10, 11, 12, 13, 14, 15, 16, 17, 18, 19,\n",
       "       20, 21, 22, 23, 24, 25, 26, 27, 28, 29]),\n",
       "                         'p': [1, 2]})"
      ]
     },
     "execution_count": 43,
     "metadata": {},
     "output_type": "execute_result"
    }
   ],
   "source": [
    "knn_reg =KNeighborsRegressor()\n",
    "\n",
    "hyperparameters = {\"n_neighbors\": np.arange(3,30), \"p\":[1,2]}\n",
    "\n",
    "gscv = GridSearchCV(knn_reg,hyperparameters,cv=5)\n",
    "gscv.fit(x_train_std,y_train)\n"
   ]
  },
  {
   "cell_type": "code",
   "execution_count": 44,
   "id": "ddec8346",
   "metadata": {},
   "outputs": [
    {
     "data": {
      "text/plain": [
       "KNeighborsRegressor(n_neighbors=10, p=1)"
      ]
     },
     "execution_count": 44,
     "metadata": {},
     "output_type": "execute_result"
    }
   ],
   "source": [
    "# To get best hyperparameters-\n",
    "gscv.best_estimator_"
   ]
  },
  {
   "cell_type": "code",
   "execution_count": 45,
   "id": "1e17c367",
   "metadata": {},
   "outputs": [
    {
     "data": {
      "text/plain": [
       "KNeighborsRegressor(n_neighbors=10, p=1)"
      ]
     },
     "execution_count": 45,
     "metadata": {},
     "output_type": "execute_result"
    }
   ],
   "source": [
    "knn_reg = KNeighborsRegressor(n_neighbors=10, p=1)\n",
    "knn_reg.fit(x_train_std,y_train)"
   ]
  },
  {
   "cell_type": "code",
   "execution_count": 46,
   "id": "6c9f7a8e",
   "metadata": {},
   "outputs": [
    {
     "name": "stdout",
     "output_type": "stream",
     "text": [
      "mse is: 9713770.700131025\n",
      "mae is: 1764.5998128217127\n",
      "R2 score is: 0.5789632189648741\n"
     ]
    }
   ],
   "source": [
    "# Evaluation by using Testing Data-\n",
    "y_pred= knn_reg.predict(x_test_std)\n",
    "mse= mean_squared_error(y_test,y_pred)\n",
    "mae = mean_absolute_error(y_test,y_pred)\n",
    "r2_value = r2_score(y_test,y_pred)\n",
    "\n",
    "print(\"mse is:\", mse)\n",
    "print(\"mae is:\", mae)\n",
    "print(\"R2 score is:\", r2_value)"
   ]
  },
  {
   "cell_type": "code",
   "execution_count": 47,
   "id": "fa8537a2",
   "metadata": {},
   "outputs": [
    {
     "name": "stdout",
     "output_type": "stream",
     "text": [
      "mse is: 7125390.083159373\n",
      "mae is: 1630.979031125673\n",
      "R2 score is: 0.6576040587443166\n"
     ]
    }
   ],
   "source": [
    "# Evaluation by using Training Data-\n",
    "y_pred_train= knn_reg.predict(x_train_std)\n",
    "mse= mean_squared_error(y_train,y_pred_train)\n",
    "mae = mean_absolute_error(y_train,y_pred_train)\n",
    "r2_value = r2_score(y_train,y_pred_train)\n",
    "\n",
    "print(\"mse is:\", mse)\n",
    "print(\"mae is:\", mae)\n",
    "print(\"R2 score is:\", r2_value)"
   ]
  },
  {
   "cell_type": "markdown",
   "id": "e9b2a740",
   "metadata": {},
   "source": [
    "##### Training Accuracy- 0.657\n",
    "##### Testing Accuracy - 0.578"
   ]
  },
  {
   "cell_type": "code",
   "execution_count": null,
   "id": "9fabd214",
   "metadata": {},
   "outputs": [],
   "source": []
  },
  {
   "cell_type": "markdown",
   "id": "9c75633a",
   "metadata": {},
   "source": [
    "## Decision Tree"
   ]
  },
  {
   "cell_type": "code",
   "execution_count": 48,
   "id": "7f5acc84",
   "metadata": {},
   "outputs": [
    {
     "data": {
      "text/plain": [
       "DecisionTreeRegressor()"
      ]
     },
     "execution_count": 48,
     "metadata": {},
     "output_type": "execute_result"
    }
   ],
   "source": [
    "dt_reg = DecisionTreeRegressor()\n",
    "dt_reg.fit(x_train,y_train)"
   ]
  },
  {
   "cell_type": "code",
   "execution_count": 49,
   "id": "ab164679",
   "metadata": {},
   "outputs": [
    {
     "name": "stdout",
     "output_type": "stream",
     "text": [
      "mse is: 9129200.535196727\n",
      "mae is: 1786.8376903374274\n",
      "R2 score is: 0.6043010149795349\n"
     ]
    }
   ],
   "source": [
    "# Evaluation by using Testing Data-\n",
    "y_pred= dt_reg.predict(x_test)\n",
    "mse= mean_squared_error(y_test,y_pred)\n",
    "mae = mean_absolute_error(y_test,y_pred)\n",
    "r2_value = r2_score(y_test,y_pred)\n",
    "\n",
    "print(\"mse is:\", mse)\n",
    "print(\"mae is:\", mae)\n",
    "print(\"R2 score is:\", r2_value)"
   ]
  },
  {
   "cell_type": "code",
   "execution_count": 50,
   "id": "6d771c65",
   "metadata": {},
   "outputs": [
    {
     "name": "stdout",
     "output_type": "stream",
     "text": [
      "mse is: 5220689.962844879\n",
      "mae is: 1416.981676833268\n",
      "R2 score is: 0.7491304991066846\n"
     ]
    }
   ],
   "source": [
    "# Evaluation by using Training Data-\n",
    "y_pred_train= dt_reg.predict(x_train)\n",
    "mse= mean_squared_error(y_train,y_pred_train)\n",
    "mae = mean_absolute_error(y_train,y_pred_train)\n",
    "r2_value = r2_score(y_train,y_pred_train)\n",
    "\n",
    "print(\"mse is:\", mse)\n",
    "print(\"mae is:\", mae)\n",
    "print(\"R2 score is:\", r2_value)"
   ]
  },
  {
   "cell_type": "code",
   "execution_count": 51,
   "id": "bede7f99",
   "metadata": {},
   "outputs": [],
   "source": [
    "from sklearn.tree import plot_tree"
   ]
  },
  {
   "cell_type": "markdown",
   "id": "cfd1ce32",
   "metadata": {},
   "source": [
    "##### Training Accuracy- 0.75\n",
    "##### Testing Accuracy - 0.60"
   ]
  },
  {
   "cell_type": "code",
   "execution_count": 53,
   "id": "d9d6cca0",
   "metadata": {},
   "outputs": [],
   "source": [
    "import warnings\n",
    "warnings.simplefilter(\"ignore\")"
   ]
  },
  {
   "cell_type": "markdown",
   "id": "c255c930",
   "metadata": {},
   "source": [
    "### Hyperparameter Tuning for Decision Tree-"
   ]
  },
  {
   "cell_type": "code",
   "execution_count": 55,
   "id": "7b0216d2",
   "metadata": {},
   "outputs": [],
   "source": [
    "from sklearn.model_selection import RandomizedSearchCV"
   ]
  },
  {
   "cell_type": "code",
   "execution_count": 56,
   "id": "7875c5e0",
   "metadata": {},
   "outputs": [
    {
     "data": {
      "text/plain": [
       "DecisionTreeRegressor(criterion='mse', max_depth=9, min_samples_leaf=6,\n",
       "                      min_samples_split=11)"
      ]
     },
     "execution_count": 56,
     "metadata": {},
     "output_type": "execute_result"
    }
   ],
   "source": [
    "dt_reg = DecisionTreeRegressor()\n",
    "\n",
    "hyperparameters ={ \"criterion\" :['mse','mae'],\n",
    "     'max_depth': np.arange(3,14),\n",
    "     'min_samples_split' : np.arange(2,20),\n",
    "     'min_samples_leaf':np.arange(2,15)}\n",
    "\n",
    "rscv_dt_reg = RandomizedSearchCV(dt_reg,hyperparameters, cv = 5)\n",
    "rscv_dt_reg.fit(x_train, y_train)\n",
    "rscv_dt_reg.best_estimator_"
   ]
  },
  {
   "cell_type": "code",
   "execution_count": 58,
   "id": "613f7899",
   "metadata": {},
   "outputs": [
    {
     "data": {
      "text/plain": [
       "DecisionTreeRegressor(criterion='mse', max_depth=9, min_samples_leaf=6,\n",
       "                      min_samples_split=11)"
      ]
     },
     "execution_count": 58,
     "metadata": {},
     "output_type": "execute_result"
    }
   ],
   "source": [
    "dt_reg = rscv_dt_reg.best_estimator_\n",
    "dt_reg.fit(x_train,y_train)"
   ]
  },
  {
   "cell_type": "code",
   "execution_count": 59,
   "id": "49bfe41a",
   "metadata": {},
   "outputs": [
    {
     "name": "stdout",
     "output_type": "stream",
     "text": [
      "MSE : 10042930.094982795\n",
      "********************************************************************************\n",
      "RMSE : 3169.0582347099266\n",
      "********************************************************************************\n",
      "MAE : 1833.8650383797615\n",
      "********************************************************************************\n",
      "R-Squared Value is : 0.5646960289792189\n"
     ]
    }
   ],
   "source": [
    "# Testing Data Evaluation\n",
    "y_pred = dt_reg.predict(x_test)\n",
    "\n",
    "mse = mean_squared_error(y_test, y_pred)\n",
    "print(\"MSE :\",mse)\n",
    "print('*'*80)\n",
    "\n",
    "rmse = np.sqrt(mse)\n",
    "print(\"RMSE :\",rmse)\n",
    "print('*'*80)\n",
    "\n",
    "mae = mean_absolute_error(y_test, y_pred)\n",
    "print(\"MAE :\",mae)\n",
    "print('*'*80)\n",
    "\n",
    "r2_value = r2_score(y_test, y_pred)\n",
    "print(\"R-Squared Value is :\",r2_value)"
   ]
  },
  {
   "cell_type": "code",
   "execution_count": 60,
   "id": "a3dac6a6",
   "metadata": {},
   "outputs": [
    {
     "name": "stdout",
     "output_type": "stream",
     "text": [
      "MSE : 7775132.6310008485\n",
      "********************************************************************************\n",
      "RMSE : 2788.392481520643\n",
      "********************************************************************************\n",
      "MAE : 1765.3295620356928\n",
      "********************************************************************************\n",
      "R-Squared Value is : 0.6263820191583231\n"
     ]
    }
   ],
   "source": [
    "# Train Data Evaluation\n",
    "y_pred_train = dt_reg.predict(x_train)\n",
    "\n",
    "mse = mean_squared_error(y_train, y_pred_train)\n",
    "print(\"MSE :\",mse)\n",
    "print('*'*80)\n",
    "\n",
    "rmse = np.sqrt(mse)\n",
    "print(\"RMSE :\",rmse)\n",
    "print('*'*80)\n",
    "\n",
    "mae = mean_absolute_error(y_train, y_pred_train)\n",
    "print(\"MAE :\",mae)\n",
    "print('*'*80)\n",
    "\n",
    "r2_value = r2_score(y_train, y_pred_train)\n",
    "print(\"R-Squared Value is :\",r2_value)"
   ]
  },
  {
   "cell_type": "markdown",
   "id": "ecf969b6",
   "metadata": {},
   "source": [
    "##### Training Accuracy- 0.62\n",
    "##### Testing Accuracy - 0.56"
   ]
  },
  {
   "cell_type": "code",
   "execution_count": null,
   "id": "957d0038",
   "metadata": {},
   "outputs": [],
   "source": []
  },
  {
   "cell_type": "raw",
   "id": "12f6fd3e",
   "metadata": {},
   "source": [
    "We will check pruning accuracy-"
   ]
  },
  {
   "cell_type": "markdown",
   "id": "329f212e",
   "metadata": {},
   "source": [
    "## Pruning-"
   ]
  },
  {
   "cell_type": "code",
   "execution_count": 63,
   "id": "0fe27502",
   "metadata": {},
   "outputs": [
    {
     "data": {
      "text/plain": [
       "DecisionTreeRegressor(random_state=10)"
      ]
     },
     "execution_count": 63,
     "metadata": {},
     "output_type": "execute_result"
    }
   ],
   "source": [
    "dt_model = DecisionTreeRegressor(random_state = 10)\n",
    "dt_model.fit(x_train,y_train)"
   ]
  },
  {
   "cell_type": "code",
   "execution_count": 64,
   "id": "203411a4",
   "metadata": {},
   "outputs": [],
   "source": [
    "result = dt_model.cost_complexity_pruning_path(x_train, y_train)\n",
    "ccp_alpha_list = result[\"ccp_alphas\"]"
   ]
  },
  {
   "cell_type": "code",
   "execution_count": 66,
   "id": "45fbd537",
   "metadata": {},
   "outputs": [
    {
     "name": "stdout",
     "output_type": "stream",
     "text": [
      "Training accuracy list is: \n",
      " [0.7491304991066846, 0.7491304991066846, 0.7491304991066846, 0.7491304991064491, 0.7491304968334089, 0.7491304928903775, 0.74913048842864, 0.7491304835961932, 0.7491304775601267, 0.7491304710509664, 0.7491304642801089, 0.749130457490004, 0.7491304500668949, 0.7491304421695917, 0.7491304320334539, 0.7491304170659852, 0.7491303997103944, 0.7491303779900994, 0.7491303445144175, 0.74913030513507, 0.7491302649086791, 0.7491302175248593, 0.7491301673113364, 0.7491301167302795, 0.7491300638304366, 0.7491300080366962, 0.7491299483838014, 0.7491298753973453, 0.749129800495222, 0.7491297238406804, 0.7491296450823633, 0.7491294777039539, 0.7491293874003944, 0.7491292923741033, 0.7491291948252377, 0.7491290927718841, 0.749128986972198, 0.7491288734429127, 0.74912875823881, 0.7491286352678099, 0.7491285112838029, 0.7491283720161195, 0.7491282219954709, 0.7491280359731223, 0.7491278211336212, 0.7491275657971336, 0.7491270222917312, 0.7491267415537038, 0.7491264570398652, 0.7491261702283909, 0.7491258677129196, 0.7491255538784016, 0.7491252238384372, 0.7491245629812745, 0.7491242196495552, 0.7491238672831961, 0.7491235144076561, 0.7491231472704074, 0.7491227598203853, 0.7491223675214923, 0.7491219540383431, 0.7491215335633528, 0.7491211128799002, 0.7491206495456322, 0.7491201846056057, 0.7491197166025276, 0.7491192437422547, 0.7491187620092833, 0.749118267720809, 0.7491177501804847, 0.7491172253502554, 0.7491166968007167, 0.7491161598648055, 0.7491156112969571, 0.7491150614227315, 0.749114487036596, 0.7491138476464797, 0.7491131742327964, 0.7491124987392495, 0.7491117745551708, 0.7491110377190603, 0.7491102728497923, 0.7491095057928846, 0.7491087313243832, 0.7491079453658653, 0.7491071562502236, 0.7491063117205431, 0.7491054473590562, 0.7491045697655636, 0.7491036689254276, 0.7491027586944501, 0.7491018484634726, 0.7491009353533422, 0.7491000022803096, 0.7490990662741535, 0.7490980941221488, 0.749097103669093, 0.7490961050046248, 0.7490950905282596, 0.7490940590870045, 0.7490930232188999, 0.7490919805134005, 0.7490909349100211, 0.7490898479966168, 0.7490887321405534, 0.7490875993566133, 0.7490864571353937, 0.7490853139212561, 0.7490841128784335, 0.7490829109399366, 0.7490816934335747, 0.7490804380955034, 0.7490791807772129, 0.749077922568472, 0.749076663028408, 0.7490754003851864, 0.7490741012884072, 0.7490727936254301, 0.7490714799585799, 0.7490701083698474, 0.7490687043156705, 0.7490672165075859, 0.7490656831164015, 0.74906413880382, 0.7490625890037319, 0.7490610295217526, 0.7490593361977591, 0.749057626229275, 0.7490558804894729, 0.7490541195533582, 0.7490523498289992, 0.74905055096369, 0.7490487353352179, 0.7490468984389874, 0.7490450428491676, 0.7490431693636088, 0.7490412950313371, 0.7490394123781687, 0.7490375127407579, 0.7490355917685523, 0.7490336289707438, 0.749031645226631, 0.7490296410997033, 0.7490275656621543, 0.7490253947855966, 0.7490232008252677, 0.7490209638726377, 0.7490186589229941, 0.749016284670962, 0.749013842153184, 0.7490113915476706, 0.7490089177530561, 0.7490064400634067, 0.7490039256677437, 0.7490014081498192, 0.748998833305627, 0.748996249984897, 0.7489936582544297, 0.7489910367195176, 0.7489884133191398, 0.7489804012105079, 0.74897772416807, 0.7489750433554916, 0.7489723570204693, 0.7489696692828879, 0.7489669414051328, 0.7489641997666836, 0.7489614402031894, 0.748958670929372, 0.7489530952417482, 0.7489502910432619, 0.7489474631186732, 0.7489446121921797, 0.7489417526250411, 0.7489388793147571, 0.7489359589374225, 0.7489330256921083, 0.7489300764321463, 0.7489270362153375, 0.7489239940945289, 0.7489178957391703, 0.7489148153794751, 0.748911652926061, 0.7489052706871656, 0.7489019928388734, 0.748898697322077, 0.7488953579181753, 0.7488919672882681, 0.7488885682939147, 0.7488851664651498, 0.7488817522548528, 0.7488783357515545, 0.748874887407139, 0.7488714003569408, 0.7488678571918499, 0.7488642607363082, 0.7488534558114461, 0.7488496776240858, 0.7488458649110673, 0.7488420491697074, 0.7488382290600121, 0.7488343497331934, 0.7488265184608807, 0.7488223575040215, 0.7488139290562279, 0.7488096419791715, 0.7488053288255172, 0.7488008188679007, 0.7487963010129408, 0.7487916030021364, 0.7487868447136308, 0.7487820699994197, 0.7487772259311678, 0.7487723314865389, 0.7487673613660356, 0.7487623734637457, 0.7487573753252397, 0.748752349702394, 0.7487422742879912, 0.7487321439045096, 0.7487270622523631, 0.7487167363887496, 0.7487115605420775, 0.7487062972848972, 0.7487010229037907, 0.7486902375170108, 0.748684837538774, 0.7486794170807514, 0.7486739758039742, 0.7486684407107687, 0.7486517707910365, 0.74864620514896, 0.7486406083890063, 0.748634934244836, 0.7486292511211654, 0.7486235432006934, 0.748617725172041, 0.7486116743392168, 0.7486055211450927, 0.7485991644669331, 0.7485927498685103, 0.7485797824035034, 0.7485732827941189, 0.748566665232043, 0.7485599493576267, 0.7485532223377425, 0.7485464521342002, 0.7485396175158117, 0.7485326624878637, 0.7485256894135917, 0.7485116176251225, 0.7485045613738412, 0.7484973323748867, 0.7484900925721589, 0.7484756044675411, 0.748461002321578, 0.7484536494680347, 0.7484462206984637, 0.7484387066387825, 0.7484309295353002, 0.7484230648420682, 0.7483915349229346, 0.7483751283352253, 0.7483669058667131, 0.7483586189438052, 0.7483502795825349, 0.748341863759747, 0.7483333959761829, 0.7483247964454539, 0.7483161223527153, 0.7482900996226527, 0.7482813717531462, 0.7482725434119522, 0.7482546476533635, 0.748245659132418, 0.7482275271683283, 0.7481998904705043, 0.7481906657187911, 0.7481721828088439, 0.748162629917634, 0.7481433702465443, 0.7481336068649853, 0.7481238209321497, 0.7481139577765693, 0.7481040077767186, 0.7480939980192778, 0.7480839535434285, 0.748073850515999, 0.7480636621002311, 0.7480533505486653, 0.748042865541904, 0.7480322896238358, 0.7480109713058659, 0.7480003059069047, 0.7479895625982471, 0.7479788174469125, 0.7479680551429666, 0.7479463693596478, 0.7479352690967684, 0.7479130585153353, 0.7479019086733428, 0.7478906460231418, 0.7478791289562536, 0.747867542157389, 0.7478558920735447, 0.7478207634266549, 0.7478090146168503, 0.7477972566530311, 0.7477854821128598, 0.7477737055944231, 0.7477498558775263, 0.7477378542832112, 0.7477257082100729, 0.7477007898447023, 0.7476881488945435, 0.74767546110365, 0.7476627537944016, 0.7476498559148271, 0.7476369023049975, 0.7476109670359835, 0.7475979094422007, 0.7475848389665835, 0.7475717610955654, 0.7475586197916868, 0.7475453922405512, 0.7475321046524126, 0.7475187730654145, 0.7474915379838383, 0.7474636379814732, 0.747449578416052, 0.7474354780881473, 0.7474069236679877, 0.7473922704652808, 0.7473775074415934, 0.7473627223403182, 0.7473476387734747, 0.7473324896120477, 0.7473172132859491, 0.7473018847439346, 0.7472865035219052, 0.7472710645047985, 0.7472400618783727, 0.7472243687562413, 0.7472086537833477, 0.747176841923741, 0.7471605186727042, 0.7471441849461433, 0.7471275143431335, 0.7470938583213622, 0.7470600708168693, 0.7470427580550993, 0.7470254046986169, 0.74700787120759, 0.7469900647113394, 0.746972175659588, 0.7469363370861537, 0.7469184086794856, 0.746900449047367, 0.7468824882904883, 0.7468641920394479, 0.7468275149841221, 0.7468091619070785, 0.7467903614698722, 0.7467715603326202, 0.746733427847023, 0.746714301902036, 0.7466951047491586, 0.746656435420625, 0.7466370474257127, 0.7465982103163582, 0.7465590272325515, 0.7465389292244518, 0.746518734844332, 0.746498510546612, 0.7464781948477195, 0.7464577760337248, 0.7464371082438683, 0.7464163044180411, 0.7463953511208494, 0.7463742703934015, 0.7463530346935356, 0.7463316581956154, 0.7463102434721616, 0.7462887595234198, 0.7462452686100658, 0.7462016845483166, 0.7461797236744276, 0.7461575882509099, 0.74613539651935, 0.7461128449873384, 0.7460676078895628, 0.746021436741944, 0.7459980873107577, 0.745974514206134, 0.7459026236562636, 0.7458786255385303, 0.7458047732317008, 0.7457798040163864, 0.745754787584477, 0.7457293872630324, 0.7456777253119953, 0.7456512971171426, 0.745624626080566, 0.7455979093881943, 0.745571130603295, 0.7455442565029828, 0.7455173527339394, 0.7454897952048447, 0.7454343715488505, 0.7453788808866122, 0.7453225881101995, 0.7452662237202972, 0.7452380080155925, 0.7451814446730607, 0.7451248719901511, 0.745067374256269, 0.7450383993114795, 0.745009239596231, 0.7449797883883391, 0.7449496129587816, 0.744919407710237, 0.7448877456818769, 0.7448232161738715, 0.7447263676510039, 0.7446928103033015, 0.744659119882384, 0.7446251912896202, 0.7445912539772357, 0.7445231454293626, 0.7444889741567806, 0.7444547233918557, 0.7444204696214662, 0.744386158648786, 0.7443172165259763, 0.7442470848827453, 0.7442118901962358, 0.7441764468116068, 0.7441409642955753, 0.7441052131669594, 0.7440307014874549, 0.743992731757219, 0.7439546280003002, 0.7439165008538466, 0.7438783165593272, 0.7436104935188138, 0.7435719257063708, 0.743533167115368, 0.7434943625057857, 0.7434166035726909, 0.74337767948612, 0.7433383988636135, 0.7432988719855189, 0.7432593071240624, 0.7432196646845892, 0.7431799569643099, 0.743140086580039, 0.7430999913001857, 0.7430598108032451, 0.7429382972610494, 0.7428570518532334, 0.7428159294187404, 0.7427744559157894, 0.7426499898257828, 0.7426083386962765, 0.7425244965803184, 0.7424403043982633, 0.742398199306394, 0.7422686162367911, 0.742182166628667, 0.7420523802531533, 0.7420090299900741, 0.741922325626145, 0.7418785880667609, 0.7418345843949032, 0.7417457327229524, 0.7416114074156434, 0.7412969305066257, 0.7412515788477201, 0.7412061429655774, 0.7411597159142971, 0.7410192333141002, 0.7409714351795824, 0.740923062458416, 0.7408742737140904, 0.740825277730651, 0.7407762545849763, 0.7407264320853606, 0.7406763174721624, 0.7406261928044268, 0.7405757650073829, 0.7405253358808814, 0.7404747779345777, 0.740423082179211, 0.7403196073011082, 0.7402678584935711, 0.7402160959170021, 0.740163947250187, 0.740111769830406, 0.7400595406738222, 0.7400072349208477, 0.7398501369089483, 0.7397453505872542, 0.7395874551913226, 0.7395338717831554, 0.7394257461274725, 0.7393705543944508, 0.7393146936746179, 0.7392574786257781, 0.7391422707179289, 0.739084552195721, 0.7389686172109319, 0.7389104714372516, 0.7386675975211667, 0.738424050101421, 0.7383628912164107, 0.738176130123377, 0.7381136364754961, 0.7380496355224622, 0.7379852587723128, 0.7379201360806222, 0.7378547648634286, 0.7377891400892651, 0.7377231944765226, 0.737257546099295, 0.7371898579121958, 0.7371214805373707, 0.7369844539941752, 0.7369158952267478, 0.7368471968364411, 0.7367087397196538, 0.7366390151625459, 0.7364284393336401, 0.7363582013415466, 0.7361471366747692, 0.7360765657600953, 0.7360056012084708, 0.7359336474286198, 0.7355713701069455, 0.7354245190595163, 0.7353509461017627, 0.7352761230451423, 0.7352000199111459, 0.7351234721851927, 0.7350466275518641, 0.7349697343950201, 0.7348155037095158, 0.734738271306651, 0.7345061555967418, 0.7342707302896005, 0.7341910718278706, 0.7341110608153205, 0.7340284292511936, 0.7339453147529287, 0.7338613170266268, 0.7336929885563523, 0.7326805950118311, 0.7325957115404818, 0.7324250512485613, 0.7322529524210002, 0.7317304505663775, 0.7313815033872875, 0.7311196332018903, 0.7310310727763432, 0.7309389028277059, 0.7308457770614405, 0.7307524692818983, 0.7303731921037272, 0.7302780160991817, 0.7301808739480187, 0.7300835993520335, 0.7298884609902412, 0.7296912682496746, 0.7292870692598236, 0.7291859400597869, 0.7290846331663842, 0.7289811780033555, 0.7288774020531401, 0.7286688837651771, 0.7285638531690142, 0.7282460488329381, 0.728033425577616, 0.7278196258750997, 0.7277125729066347, 0.7274971457341806, 0.7273893033183629, 0.727279763970268, 0.7271701894610421, 0.7268412561941442, 0.7267311398766654, 0.7265079354299189, 0.7263963176203205, 0.7262830394363533, 0.7261676104931596, 0.7258211132755046, 0.7257051880222721, 0.7254723345590788, 0.7253551217223335, 0.7251197645233498, 0.7248832397351519, 0.7246466728009331, 0.7245262465689535, 0.7244043083310074, 0.7242823061488008, 0.7241534078648091, 0.7240223737867693, 0.7238908269911672, 0.7233451646614503, 0.7232071263200132, 0.72292944340939, 0.7227885055857266, 0.7226459876824725, 0.7225033465528568, 0.7223558888890035, 0.7219128037306841, 0.7217649512553302, 0.7216135671011583, 0.7214586791797557, 0.7211485343193706, 0.720992257921367, 0.7205229625585834, 0.7198895393253206, 0.7195721023525736, 0.719410804016706, 0.718603974818613, 0.718442305801177, 0.718112563376716, 0.7177798859311599, 0.717445621815102, 0.717278061420979, 0.7159321708319842, 0.7157629920809692, 0.7155923331438254, 0.7152397548738347, 0.715062539019601, 0.7148813907642193, 0.7143356016295054, 0.714152926520987, 0.7139697079972808, 0.7134171569153677, 0.7132312006465661, 0.7130434217257258, 0.7128518121733207, 0.7126583595720309, 0.7124596041553659, 0.712057838991027, 0.7118550171663551, 0.7114469788120144, 0.7110384087586297, 0.7108312742268732, 0.7106236129207446, 0.7104136263119671, 0.7102014272082183, 0.7099890483571983, 0.709771438647703, 0.7093244803123235, 0.7090971843021252, 0.7088669741226127, 0.7086313113080601, 0.7083941133917562, 0.7081558737707083, 0.7076777447081855, 0.7067182420113356, 0.7064695096934651, 0.7062136066353579, 0.7059522992360957, 0.7051626223166396, 0.704896388264949, 0.7046254620841554, 0.7027027323497623, 0.7024266696659813, 0.7018476341167056, 0.7009708708283207, 0.7006756339679261, 0.7000808856168734, 0.6994734147786954, 0.6991630250818086, 0.6985284577535065, 0.6982099720027568, 0.6978883002243523, 0.6975602851504279, 0.6969024914645151, 0.6965726826302725, 0.6962306338003112, 0.6958885121781304, 0.6948614851227459, 0.694515396963723, 0.6930875107189909, 0.6923586207765879, 0.6916117181315107, 0.6908404641610566, 0.6889108044550725, 0.6877353506003314, 0.686929621829883, 0.6857185786974203, 0.6853117793424335, 0.6840869824491755, 0.683269441394492, 0.6828579725295476, 0.6824403515440145, 0.6820121744901679, 0.6807065000396952, 0.6789236175167943, 0.6784772654585838, 0.6775732495547536, 0.6766684881270697, 0.6761775511885653, 0.6751892403049671, 0.673644640254234, 0.670020461927807, 0.6694893854125943, 0.668416226008704, 0.6678487411354684, 0.6666863605346145, 0.6653728206922287, 0.6647086835099166, 0.6633611662767881, 0.6626741700056574, 0.6612520671428825, 0.6605208536378151, 0.6565200382252687, 0.6557154416063408, 0.6532999892250533, 0.6524833362971107, 0.6516626880521567, 0.6499959848113788, 0.649104674695284, 0.648199256600356, 0.6472906435206238, 0.6463119593102032, 0.6452073578724113, 0.6440944360289114, 0.6429775534138471, 0.6417881696857526, 0.6405435923557072, 0.636795420267078, 0.6355103434247749, 0.6342044081730911, 0.6314940790103113, 0.6286342222145179, 0.627182304411682, 0.6236949210129904, 0.6160793545546162, 0.6118233003935125, 0.609481765847725, 0.6069493129997067, 0.6042616440457417, 0.601300119432927, 0.5979143383226001, 0.5906108400487033, 0.5868436336020866, 0.579328663201008, 0.5709027587082716, 0.5613130306309482, 0.548245907334876, 0.5186044175986119, 0.49799017476362206, 0.45633921645917774, 0.40851102993027777, 0.0]\n",
      "**************************************************\n",
      "Testing accuracy list is: \n",
      " [0.6044728949200611, 0.6044728949200611, 0.6044728949200611, 0.6044728809432525, 0.6044728326080991, 0.6044724530155181, 0.6044715186077239, 0.6044742650475189, 0.604474018624841, 0.6044744548990699, 0.6044696745274705, 0.6044685229825282, 0.6044685229825282, 0.6044821664589763, 0.6044821664589763, 0.6044830016702107, 0.6044818499260346, 0.604485135009285, 0.6044850947580909, 0.6044785228127094, 0.6044816590317341, 0.604481616300969, 0.604481616300969, 0.6044816038994496, 0.6044993343020502, 0.6044993343020502, 0.6044993343020502, 0.6045113626526245, 0.604508867671091, 0.6044961801850146, 0.6044994903978841, 0.6044994098954957, 0.6044994098954957, 0.6044994098954957, 0.6044971426917951, 0.6044968065431267, 0.6045324581688041, 0.6045365299789757, 0.6045350647604137, 0.6045284159515774, 0.6045573542175771, 0.6046134868905704, 0.6046104859404215, 0.6046104859404215, 0.6046089386111507, 0.604606832517409, 0.6046385705384346, 0.6046094271728751, 0.6045804954961475, 0.6045798697859571, 0.604575538162933, 0.6045710087056282, 0.6045784901021267, 0.6045836643919075, 0.6045865231828094, 0.6045829648249419, 0.6045882323282784, 0.6045991032837945, 0.6045368670043867, 0.604556282671045, 0.604556282671045, 0.6045572670123214, 0.6046263286909965, 0.6046259128122163, 0.6046259128122163, 0.6045113161118364, 0.6045104097015392, 0.604511166514148, 0.6045132596388583, 0.6045116332196185, 0.604505664270006, 0.604505664270006, 0.6045055631172593, 0.6046492208757829, 0.6045339430679482, 0.6045339430679482, 0.6045785532070225, 0.6046017638083121, 0.6045784736397845, 0.6045027499072628, 0.6045004830470162, 0.6045039963944268, 0.6045039963944268, 0.6045008832037416, 0.6044986151141551, 0.6044788968380688, 0.6044743893083717, 0.6044743893083717, 0.6044516380813396, 0.6044571736595352, 0.6044571736595352, 0.6042462188669305, 0.6042437190375533, 0.6042503551686502, 0.6042503551686502, 0.6042569628307644, 0.6042510030726793, 0.6042510030726793, 0.6043407888422062, 0.6043341599061992, 0.6043341599061992, 0.604332279280957, 0.6043326584090625, 0.6043356913433385, 0.6043356913433385, 0.604331190694823, 0.6043352178584158, 0.6043066950122833, 0.6043066950122833, 0.6043104874976286, 0.6043104874976286, 0.6043104874976286, 0.6043104874976286, 0.6043076748997687, 0.60442476643351, 0.604427280865232, 0.6045069894102282, 0.6045089882587752, 0.6044975886745001, 0.6044961931354925, 0.6045005836996242, 0.6044617636589529, 0.6044832427481178, 0.6044937549311649, 0.6044937549311649, 0.6045034352689416, 0.6045413488851654, 0.6045383800793469, 0.6045383800793469, 0.604363746848656, 0.6043584161390374, 0.6043584161390374, 0.6043709468203582, 0.6043766258793069, 0.6043766258793069, 0.6044010934513888, 0.604397808557984, 0.6041220860354004, 0.604158923818846, 0.6042761218943403, 0.604280123534247, 0.604280123534247, 0.604381353730738, 0.6043874126295932, 0.6043874126295932, 0.6044059574504506, 0.6044579545699138, 0.6045483318906022, 0.6045185910822604, 0.604513868362869, 0.604513868362869, 0.6045030896546773, 0.6045030896546773, 0.6045013897338707, 0.604511398639342, 0.6045190901010118, 0.6045334527342083, 0.6045460938390759, 0.6045563795143943, 0.6045534938414754, 0.6045576462654856, 0.6045576462654856, 0.604556521486282, 0.6045531792158758, 0.6046281005605247, 0.6046281005605247, 0.6046847433636662, 0.6046702295679656, 0.6046730877635071, 0.6047171276680019, 0.6047171276680019, 0.6047811569169068, 0.6047811569169068, 0.6048020806547468, 0.604788614253007, 0.6047715438173236, 0.6049244138986418, 0.6049244138986418, 0.6049278727931888, 0.6049297468592464, 0.6049381338575615, 0.6049381338575615, 0.6047104421925075, 0.6046237264965933, 0.6047035855476088, 0.604672533038016, 0.6046882728524293, 0.6047806926188041, 0.6047746538243809, 0.6047746538243809, 0.6047192105982632, 0.6046687853417859, 0.6046513054979509, 0.6046513054979509, 0.6047009020184209, 0.6046910281236126, 0.6047118269367645, 0.6047651232743543, 0.6047664826397672, 0.6047664826397672, 0.6047032884816538, 0.6047054647660399, 0.6046985404702758, 0.6047054701859698, 0.6045662814227437, 0.6045654687933677, 0.6045784363098372, 0.6043732796804029, 0.6043623708511584, 0.6043065681644442, 0.6042467074835383, 0.604297126734497, 0.604288295312714, 0.6043069706790369, 0.6043069706790369, 0.6043101057143332, 0.6043614745573779, 0.6043614745573779, 0.6043919461942142, 0.6043562649194711, 0.6042941762693815, 0.6042889243735259, 0.6043381488217083, 0.60436012782912, 0.6042547718380149, 0.6042512955643313, 0.6042559322827922, 0.6042559322827922, 0.6043439852020099, 0.6044197055957308, 0.6044780684683266, 0.6044780684683266, 0.6044241687082258, 0.6043907988361836, 0.604429657829634, 0.6044290273807005, 0.6044758206490402, 0.6045550697842963, 0.6045458659132823, 0.604516687269568, 0.6045342835083722, 0.6047729331267586, 0.6047281402299319, 0.604710621608552, 0.6049428394286192, 0.6048255242401837, 0.6048269770587567, 0.605079338070561, 0.6050800378545624, 0.6050926705345705, 0.6051753700252863, 0.6051753700252863, 0.605182158014881, 0.6053861337911495, 0.605383294805506, 0.6053959126435169, 0.6054086144538777, 0.6053185853529767, 0.6053173363811117, 0.6052883187485597, 0.6052924837375944, 0.6053208576955436, 0.6053201668182792, 0.6052628890398652, 0.6052226973343808, 0.6053282289376414, 0.6052678715582904, 0.6050315434210023, 0.6050315434210023, 0.6049853030294758, 0.6051131463438224, 0.6051162665922429, 0.6051172671666409, 0.6051161825001257, 0.6050997928118336, 0.6050725865989266, 0.6049439476179488, 0.6049556356839774, 0.6051494754019693, 0.6051946012614964, 0.6051711152530692, 0.6052506898210336, 0.6051206047109453, 0.6050978345085303, 0.6050179378203044, 0.605023838314338, 0.6051546617054727, 0.6051455562279694, 0.6051455562279694, 0.6051698900698288, 0.6052953530320351, 0.6052953530320351, 0.6052144333061953, 0.6054661831166535, 0.6055586726193731, 0.6055453135489224, 0.6055882260822794, 0.6055882260822794, 0.6055683966657185, 0.6055660285153326, 0.6055527925539492, 0.6055349559889851, 0.60535891560156, 0.60535891560156, 0.6059341292851732, 0.605846196864733, 0.6058556524340276, 0.6056910517671878, 0.6056910517671878, 0.6055533533717865, 0.6055481021534105, 0.6055525791744027, 0.6055530669984381, 0.6055371035045731, 0.6055184421343647, 0.605414809407374, 0.6050627031765048, 0.605031510798387, 0.6050090553287214, 0.6049729938612208, 0.6051157743959457, 0.6051670182840708, 0.6051670182840708, 0.6051670182840708, 0.6051459115772323, 0.6051459115772323, 0.6053619998650701, 0.6058001296017046, 0.6057657628182297, 0.6058012638135739, 0.6058840293343966, 0.6060004479765324, 0.6057886121443266, 0.6054271803066449, 0.6054271803066449, 0.6054245473719314, 0.6053086361315451, 0.6054444783195245, 0.6053975021525788, 0.6055159234024255, 0.6053809880126773, 0.6052619883142363, 0.6052504998036837, 0.6052504998036837, 0.6054301384315313, 0.6053721777213104, 0.6053649762538651, 0.6053649762538651, 0.6055952170311376, 0.6055952170311376, 0.6056143507043438, 0.605618906483534, 0.605618906483534, 0.605618906483534, 0.605584826302512, 0.6055355373165936, 0.6054151867156237, 0.6053946803153403, 0.6054149894643523, 0.6054251767722983, 0.6050270811747356, 0.6050182763837497, 0.6050182763837497, 0.6050182763837497, 0.6056546458423986, 0.605612202334255, 0.6056045050680896, 0.6058804696314559, 0.6058765035853906, 0.6059802638529151, 0.6059623243880701, 0.6059648349676193, 0.6059632910417408, 0.6059067783918448, 0.6061166166600307, 0.6060182381411219, 0.6060182381411219, 0.605988157132981, 0.6062922325437241, 0.6062697819260163, 0.606202760256664, 0.6060183828492111, 0.6060543846403065, 0.6062520763576305, 0.6064908624861505, 0.6065025233819501, 0.6065025233819501, 0.6065791738940113, 0.6065217077947996, 0.6065215232536718, 0.606675855200344, 0.6066734348447854, 0.6067643061430437, 0.6066675597140077, 0.6071216535039685, 0.6071524468950705, 0.6070838803764835, 0.6071007963549346, 0.6071007963549346, 0.6071099250521971, 0.6069843931180079, 0.6069717882751258, 0.6071903480109058, 0.6071328360427786, 0.6070237391865605, 0.6070674842064384, 0.6070674842064384, 0.6070990045333007, 0.6069735287910669, 0.6069985171437389, 0.6069402832391433, 0.6071471183084665, 0.6071471183084665, 0.6069632915122811, 0.6070342919797457, 0.6070550291857352, 0.6069664225649796, 0.6069497232324388, 0.6072323326579661, 0.6071442055698333, 0.6071128126751705, 0.6068120421198226, 0.6068069208660274, 0.6069185072530754, 0.6067607107334781, 0.6069499443511354, 0.6075927913820431, 0.6078344969516012, 0.6078344969516012, 0.6078220785470096, 0.607854904409809, 0.6078207965827517, 0.6079248141351744, 0.6076994163016984, 0.6087968480771005, 0.6088823909832805, 0.6088712104851193, 0.6090094377411999, 0.6088576927063283, 0.6090641122403515, 0.609264162112747, 0.6093798975940021, 0.6094589957161641, 0.6093401207877245, 0.6093176217310383, 0.6093355158232179, 0.608846738225888, 0.6090929811272332, 0.6090929811272332, 0.60889674087041, 0.6093507703071546, 0.6095195117359858, 0.6095122436586962, 0.6094369611248719, 0.6093766729389941, 0.609572798927402, 0.6092304468661536, 0.6091181471816366, 0.6092576591597453, 0.6092237401521357, 0.6091841820932551, 0.6092460701308543, 0.609705234947975, 0.6102824721280007, 0.6105711362425656, 0.610469739834488, 0.6104775559010409, 0.6105009736152036, 0.6106329785545364, 0.6105824027370501, 0.6105431074960259, 0.6105502919494541, 0.6105646936509738, 0.6105109549039478, 0.6102727532487981, 0.6101393401608883, 0.6106019230762387, 0.6105508861691407, 0.6111795704906577, 0.6116424145009212, 0.6120466105927334, 0.6119656958803317, 0.6119656263432971, 0.6119474539177896, 0.6121712167207167, 0.6122636682222058, 0.6122514633267819, 0.6123572213857893, 0.6123745382447896, 0.6124191629869964, 0.6122739330181733, 0.6126445714483112, 0.6126396453854136, 0.6123038933157932, 0.6123763934507085, 0.6123583604403822, 0.6123583604403822, 0.6119860238413298, 0.6119247270451462, 0.6118655901343164, 0.6116715356814137, 0.611632176269691, 0.6117519123694843, 0.6129079512661405, 0.6128744082322077, 0.612736630366024, 0.6126795967482579, 0.612883682158051, 0.6128495800547705, 0.6123484708991023, 0.612406167136885, 0.6124752073281767, 0.6126869773876361, 0.613045078397527, 0.6129561511364603, 0.6130016322367307, 0.6133456231372889, 0.6138946990700371, 0.6139193708706763, 0.6139647898482901, 0.6140099692621712, 0.6141330056888085, 0.6131297276857126, 0.6129765884125702, 0.6129216578656755, 0.6126078004252212, 0.6120782517951353, 0.6122039113133888, 0.6123778312170833, 0.6124149554930591, 0.6124149554930591, 0.612100692190743, 0.6120573446461278, 0.6120617373691025, 0.6123308572205346, 0.6124966882960052, 0.6125551096066387, 0.6138490549283839, 0.6138191981511799, 0.6137783520337797, 0.6139374138191747, 0.6140150887002802, 0.6140421375028126, 0.6136885321305363, 0.6132778741403524, 0.6128612574356938, 0.6130231620793141, 0.6157742373706351, 0.6149442110376737, 0.6155569410674693, 0.6162938488572962, 0.6162938488572962, 0.6162579432081323, 0.6162287346564619, 0.6161443396244446, 0.6191681575871439, 0.6192646732353401, 0.6182970460807393, 0.6182344895054919, 0.6184101800542505, 0.6186433064725563, 0.6195380429725167, 0.619574646151102, 0.6195840438677355, 0.6196527516816699, 0.6196418204417034, 0.6195922351229943, 0.6196639164004605, 0.6195084998767979, 0.6192410086670641, 0.6194837892090854, 0.6191815818206687, 0.621576051818383, 0.6215098614980484, 0.6213943600423483, 0.6213179165890554, 0.621160914304959, 0.6214354918955057, 0.6212758895635249, 0.6225780925136499, 0.6231210007601794, 0.621911321716239, 0.621911321716239, 0.621911321716239, 0.6215435254150443, 0.6223887568685604, 0.6223863633140407, 0.6228595418330805, 0.6228760055605014, 0.622800626340833, 0.6240858529567992, 0.6241364178809854, 0.624548617360085, 0.6244320490766373, 0.6244320490766373, 0.6246158219996831, 0.625012332048276, 0.6248502015730029, 0.62517465500793, 0.625049626863072, 0.6248689177637303, 0.6249282058942001, 0.6249282058942001, 0.6249317912365067, 0.6249376821584377, 0.6294102450441259, 0.6300534696367815, 0.6299210269559863, 0.629710743298372, 0.6298469954066621, 0.6299318044629877, 0.6298807687016685, 0.6295473291554732, 0.6290948372560048, 0.629083438957722, 0.6293512446732827, 0.6287371816202658, 0.6293117083394768, 0.6294375672577752, 0.6282808784305292, 0.6285542528953865, 0.6290921065762034, 0.6290921065762034, 0.628823381686524, 0.629222579265559, 0.6277987387070143, 0.6277789845236971, 0.6274955208855586, 0.627423099607811, 0.6271504590770647, 0.6268871454735123, 0.6271673308843123, 0.627122429789505, 0.6271631951566347, 0.6269067542612984, 0.6260319965478014, 0.6262131783154739, 0.6263218178131376, 0.625976340092953, 0.6262748761103709, 0.6262497773400753, 0.6262497773400753, 0.6263823124700371, 0.6257688418029144, 0.6271153188199965, 0.6262258498345072, 0.6252387605133964, 0.6248551783738825, 0.6248551783738825, 0.6246526833835477, 0.6246746357223707, 0.6247158636694601, 0.6240627791154951, 0.6247340997718533, 0.6247364624734499, 0.6247872184225798, 0.6248506645428622, 0.6241758019711141, 0.6236774011820243, 0.6237020310018213, 0.6233076807155631, 0.625327039359092, 0.6252502538953061, 0.6251143068491537, 0.6245598593080588, 0.6242934825448787, 0.6241602235206585, 0.6240453244739961, 0.6226767427108031, 0.6237815032950432, 0.6236046352390154, 0.6236794114532793, 0.6242551364991754, 0.624264094658934, 0.6253951289613765, 0.6251554479380621, 0.624306475725609, 0.6237505778550763, 0.6234128642319987, 0.6233703242036586, 0.6243743761368075, 0.6239071085733265, 0.6242924137085805, 0.624587853191537, 0.6258872132668374, 0.6282265228859246, 0.626248550703197, 0.6265662487323111, 0.6261672700528047, 0.626214651731736, 0.626351531404314, 0.6267736064047364, 0.6262756914129616, 0.626003503585768, 0.6251798347851034, 0.6249449841794616, 0.6246717715295487, 0.6241302476614592, 0.6238328837094602, 0.6271647385089583, 0.6317788074342943, 0.6306963455748098, 0.6299959106480059, 0.632297731769611, 0.6310817891353381, 0.6308237623700235, 0.6269478589651347, 0.6284835628912291, 0.6311523211214911, 0.6313872908239924, 0.632974152258295, 0.6337458740041223, 0.6327981558560591, 0.6344653851071396, 0.6347971901336641, 0.6433084254409172, 0.6436751076525782, 0.6428099882791316, 0.6421164314973499, 0.6393480616195535, 0.6388236023276871, 0.6356176396923878, 0.6315567380089915, 0.6195592995673272, 0.6185630519623919, 0.6185987647130928, 0.6174143339014859, 0.6193167320244901, 0.6198917621485948, 0.6186330735877592, 0.618187785163258, 0.6182031902775696, 0.617819187109395, 0.6175757948826287, 0.6108035788477264, 0.6057109504731897, 0.6053639349829392, 0.6025978401516148, 0.5957797743834606, 0.5942206267873944, 0.5920601165089852, 0.5784257710471845, 0.5779979601361502, 0.5762896672746114, 0.5709307327850761, 0.5708684230892594, 0.5604270762657845, 0.5573772880806567, 0.542093887226585, 0.5381535903162675, 0.5309741341249612, 0.5236189656562, 0.5236189656562, 0.49794671453407147, 0.4870399497173773, 0.46481519490513445, 0.4210643174055011, 0.37137317295933403, -1.0402797436359634e-05]\n"
     ]
    }
   ],
   "source": [
    "train_accuracy_list = []\n",
    "test_accuracy_list = []\n",
    "\n",
    "for ccp_alpha in ccp_alpha_list:\n",
    "    dt_reg_model = DecisionTreeRegressor(random_state=10,ccp_alpha = ccp_alpha)\n",
    "    dt_reg_model.fit(x_train,y_train)\n",
    "    train_accuracy_list.append(dt_reg_model.score(x_train,y_train))\n",
    "    test_accuracy_list.append(dt_reg_model.score(x_test,y_test))\n",
    "    \n",
    "print(\"Training accuracy list is: \\n\", train_accuracy_list)\n",
    "print(\"*\"*50)\n",
    "print(\"Testing accuracy list is: \\n\", test_accuracy_list)"
   ]
  },
  {
   "cell_type": "code",
   "execution_count": 67,
   "id": "5716b800",
   "metadata": {},
   "outputs": [
    {
     "data": {
      "text/plain": [
       "(array([716], dtype=int64),)"
      ]
     },
     "execution_count": 67,
     "metadata": {},
     "output_type": "execute_result"
    }
   ],
   "source": [
    "np.where(test_accuracy_list==np.max(test_accuracy_list))"
   ]
  },
  {
   "cell_type": "code",
   "execution_count": null,
   "id": "f9e83b4e",
   "metadata": {},
   "outputs": [],
   "source": []
  },
  {
   "cell_type": "code",
   "execution_count": null,
   "id": "6fe9d7e3",
   "metadata": {},
   "outputs": [],
   "source": []
  },
  {
   "cell_type": "code",
   "execution_count": 68,
   "id": "55212ce2",
   "metadata": {},
   "outputs": [
    {
     "data": {
      "text/plain": [
       "DecisionTreeRegressor(ccp_alpha=14296.654333956772, random_state=10)"
      ]
     },
     "execution_count": 68,
     "metadata": {},
     "output_type": "execute_result"
    }
   ],
   "source": [
    "decision_tree_model = DecisionTreeRegressor(random_state=10,ccp_alpha=ccp_alpha_list[716])\n",
    "decision_tree_model.fit(x_train, y_train)"
   ]
  },
  {
   "cell_type": "code",
   "execution_count": 69,
   "id": "f2371d39",
   "metadata": {},
   "outputs": [
    {
     "name": "stdout",
     "output_type": "stream",
     "text": [
      "MSE : 8220797.932432807\n",
      "********************************************************************************\n",
      "RMSE : 2867.1933894372746\n",
      "********************************************************************************\n",
      "MAE : 1823.3082142544513\n",
      "********************************************************************************\n",
      "R-Squared Value is : 0.6436751076525782\n"
     ]
    }
   ],
   "source": [
    "# Testing Data Evaluation\n",
    "y_pred = decision_tree_model.predict(x_test)\n",
    "\n",
    "mse = mean_squared_error(y_test, y_pred)\n",
    "print(\"MSE :\",mse)\n",
    "print('*'*80)\n",
    "\n",
    "rmse = np.sqrt(mse)\n",
    "print(\"RMSE :\",rmse)\n",
    "print('*'*80)\n",
    "\n",
    "mae = mean_absolute_error(y_test, y_pred)\n",
    "print(\"MAE :\",mae)\n",
    "print('*'*80)\n",
    "\n",
    "r2_value = r2_score(y_test, y_pred)\n",
    "print(\"R-Squared Value is :\",r2_value)"
   ]
  },
  {
   "cell_type": "code",
   "execution_count": 70,
   "id": "2675eb42",
   "metadata": {},
   "outputs": [
    {
     "name": "stdout",
     "output_type": "stream",
     "text": [
      "MSE : 7019879.134724692\n",
      "********************************************************************************\n",
      "RMSE : 2649.505450970934\n",
      "********************************************************************************\n",
      "MAE : 1781.301897995761\n",
      "********************************************************************************\n",
      "R-Squared Value is : 0.6626741700056574\n"
     ]
    }
   ],
   "source": [
    "# Testing Data Evaluation\n",
    "y_pred_train = decision_tree_model.predict(x_train)\n",
    "\n",
    "mse = mean_squared_error(y_train, y_pred_train)\n",
    "print(\"MSE :\",mse)\n",
    "print('*'*80)\n",
    "\n",
    "rmse = np.sqrt(mse)\n",
    "print(\"RMSE :\",rmse)\n",
    "print('*'*80)\n",
    "\n",
    "mae = mean_absolute_error(y_train, y_pred_train)\n",
    "print(\"MAE :\",mae)\n",
    "print('*'*80)\n",
    "\n",
    "r2_value = r2_score(y_train, y_pred_train)\n",
    "print(\"R-Squared Value is :\",r2_value)"
   ]
  },
  {
   "cell_type": "markdown",
   "id": "05a729c1",
   "metadata": {},
   "source": [
    "##### Training Accuracy- 0.66\n",
    "##### Testing Accuracy - 0.64"
   ]
  },
  {
   "cell_type": "code",
   "execution_count": 71,
   "id": "fe057e72",
   "metadata": {},
   "outputs": [
    {
     "data": {
      "text/plain": [
       "array([0.21109675, 0.00360832, 0.03971377, 0.70744362, 0.03813754])"
      ]
     },
     "execution_count": 71,
     "metadata": {},
     "output_type": "execute_result"
    }
   ],
   "source": [
    "decision_tree_model.get_depth()\n",
    "decision_tree_model.feature_importances_"
   ]
  },
  {
   "cell_type": "code",
   "execution_count": null,
   "id": "992cd6aa",
   "metadata": {},
   "outputs": [],
   "source": []
  },
  {
   "cell_type": "raw",
   "id": "d076bf02",
   "metadata": {},
   "source": [
    "As the accuracies are very low now we will try random forest regressor"
   ]
  },
  {
   "cell_type": "markdown",
   "id": "844a8f25",
   "metadata": {},
   "source": [
    "### Random Forest-"
   ]
  },
  {
   "cell_type": "code",
   "execution_count": 82,
   "id": "b997a839",
   "metadata": {},
   "outputs": [],
   "source": [
    "from sklearn.ensemble import RandomForestRegressor"
   ]
  },
  {
   "cell_type": "code",
   "execution_count": 116,
   "id": "2454853b",
   "metadata": {},
   "outputs": [
    {
     "data": {
      "text/plain": [
       "RandomForestRegressor()"
      ]
     },
     "execution_count": 116,
     "metadata": {},
     "output_type": "execute_result"
    }
   ],
   "source": [
    "rf_regres = RandomForestRegressor()\n",
    "rf_regres.fit(x_train,y_train)"
   ]
  },
  {
   "cell_type": "code",
   "execution_count": 117,
   "id": "cca8c7ae",
   "metadata": {},
   "outputs": [
    {
     "name": "stdout",
     "output_type": "stream",
     "text": [
      "MSE : 5371096.067832353\n",
      "********************************************************************************\n",
      "RMSE : 2317.562527275662\n",
      "********************************************************************************\n",
      "MAE: 1462.8964664721577\n",
      "********************************************************************************\n",
      "R-Squared value: 0.7419030435868104\n"
     ]
    }
   ],
   "source": [
    "#Training Data Evaluation\n",
    "\n",
    "y_pred_train = rf_regres.predict(x_train)\n",
    "\n",
    "mse = mean_squared_error(y_train,y_pred_train)\n",
    "print(\"MSE :\",mse)\n",
    "\n",
    "print(\"*\"*80)\n",
    "rmse = np.sqrt(mse)\n",
    "print(\"RMSE :\",rmse)\n",
    "\n",
    "print(\"*\"*80)\n",
    "mae = mean_absolute_error(y_train,y_pred_train)\n",
    "print(\"MAE:\",mae)\n",
    "print(\"*\"*80)\n",
    "r2_value = r2_score(y_train,y_pred_train)\n",
    "print(\"R-Squared value:\",r2_value)"
   ]
  },
  {
   "cell_type": "code",
   "execution_count": 118,
   "id": "0498b83b",
   "metadata": {},
   "outputs": [
    {
     "name": "stdout",
     "output_type": "stream",
     "text": [
      "MSE : 8450575.58431165\n",
      "********************************************************************************\n",
      "RMSE : 2906.9873725751972\n",
      "********************************************************************************\n",
      "MAE: 1736.5279867773202\n",
      "********************************************************************************\n",
      "R-Squared value: 0.6337155516894574\n"
     ]
    }
   ],
   "source": [
    "#Test Data Evaluation\n",
    "\n",
    "y_pred = rf_regres.predict(x_test)\n",
    "\n",
    "mse = mean_squared_error(y_test,y_pred)\n",
    "print(\"MSE :\",mse)\n",
    "\n",
    "print(\"*\"*80)\n",
    "rmse = np.sqrt(mse)\n",
    "print(\"RMSE :\",rmse)\n",
    "\n",
    "print(\"*\"*80)\n",
    "mae = mean_absolute_error(y_test,y_pred)\n",
    "print(\"MAE:\",mae)\n",
    "print(\"*\"*80)\n",
    "r2_value = r2_score(y_test,y_pred)\n",
    "print(\"R-Squared value:\",r2_value)"
   ]
  },
  {
   "cell_type": "markdown",
   "id": "9689c683",
   "metadata": {},
   "source": [
    "##### Training Accuracy- 0.74\n",
    "##### Testing Accuracy - 0.63"
   ]
  },
  {
   "cell_type": "markdown",
   "id": "13a06efa",
   "metadata": {},
   "source": [
    "#### Hyperparameter Tuning on Random Forest-"
   ]
  },
  {
   "cell_type": "code",
   "execution_count": 94,
   "id": "0511b1fc",
   "metadata": {},
   "outputs": [
    {
     "data": {
      "text/plain": [
       "RandomizedSearchCV(cv=5, estimator=RandomForestRegressor(),\n",
       "                   param_distributions={'criterion': ['mse', 'mae'],\n",
       "                                        'max_depth': array([3, 4, 5, 6, 7]),\n",
       "                                        'min_samples_leaf': array([3, 4, 5, 6, 7, 8, 9]),\n",
       "                                        'min_samples_split': array([ 4,  5,  6,  7,  8,  9, 10, 11, 12, 13, 14, 15, 16, 17, 18, 19]),\n",
       "                                        'n_estimators': array([10, 11, 12, 13, 14, 15, 16, 17, 18, 19, 20, 21, 22, 23, 24, 25, 26,\n",
       "       27, 28, 29, 30, 31, 32, 33, 34, 35, 36, 37, 38, 39, 40, 41, 42, 43,\n",
       "       44, 45, 46, 47, 48, 49, 50, 51, 52, 53, 54, 55, 56, 57, 58, 59, 60,\n",
       "       61, 62, 63, 64, 65, 66, 67, 68, 69, 70, 71, 72, 73, 74, 75, 76, 77,\n",
       "       78, 79, 80, 81, 82, 83, 84, 85, 86, 87, 88, 89, 90, 91, 92, 93, 94,\n",
       "       95, 96, 97, 98, 99]),\n",
       "                                        'random_state': [11]})"
      ]
     },
     "execution_count": 94,
     "metadata": {},
     "output_type": "execute_result"
    }
   ],
   "source": [
    "rf_reg = RandomForestRegressor()\n",
    "hyperparameters = {'n_estimators':np.arange(10,100),\n",
    "                  'criterion':['mse','mae'],\n",
    "                  'max_depth':np.arange(3,8),\n",
    "                  'min_samples_split':np.arange(4,20),\n",
    "                  'min_samples_leaf':np.arange(3,10),\n",
    "                  'random_state':[11]}\n",
    "\n",
    "rscv_rf_reg = RandomizedSearchCV(rf_reg,hyperparameters, cv=5)\n",
    "rscv_rf_reg.fit(x_train,y_train)"
   ]
  },
  {
   "cell_type": "code",
   "execution_count": 95,
   "id": "2fd9d989",
   "metadata": {},
   "outputs": [
    {
     "data": {
      "text/plain": [
       "RandomForestRegressor(criterion='mse', max_depth=7, min_samples_leaf=6,\n",
       "                      min_samples_split=17, n_estimators=72, random_state=11)"
      ]
     },
     "execution_count": 95,
     "metadata": {},
     "output_type": "execute_result"
    }
   ],
   "source": [
    "rscv_rf_reg.best_estimator_"
   ]
  },
  {
   "cell_type": "code",
   "execution_count": 96,
   "id": "8016eb3b",
   "metadata": {},
   "outputs": [
    {
     "data": {
      "text/plain": [
       "RandomForestRegressor(criterion='mse', max_depth=7, min_samples_leaf=6,\n",
       "                      min_samples_split=17, n_estimators=72, random_state=11)"
      ]
     },
     "execution_count": 96,
     "metadata": {},
     "output_type": "execute_result"
    }
   ],
   "source": [
    "rf_reg = rscv_rf_reg.best_estimator_\n",
    "rf_reg.fit(x_train,y_train)"
   ]
  },
  {
   "cell_type": "code",
   "execution_count": 97,
   "id": "47dd5a9a",
   "metadata": {},
   "outputs": [
    {
     "name": "stdout",
     "output_type": "stream",
     "text": [
      "MSE : 9342024.6599027\n",
      "********************************************************************************\n",
      "RMSE : 3056.4725845167823\n",
      "********************************************************************************\n",
      "MAE: 1864.6579963707368\n",
      "********************************************************************************\n",
      "R-Squared value: 0.5950762981152988\n"
     ]
    }
   ],
   "source": [
    "#Test Data Evaluation\n",
    "\n",
    "y_pred = rf_reg.predict(x_test)\n",
    "\n",
    "mse = mean_squared_error(y_test,y_pred)\n",
    "print(\"MSE :\",mse)\n",
    "\n",
    "print(\"*\"*80)\n",
    "rmse = np.sqrt(mse)\n",
    "print(\"RMSE :\",rmse)\n",
    "\n",
    "print(\"*\"*80)\n",
    "mae = mean_absolute_error(y_test,y_pred)\n",
    "print(\"MAE:\",mae)\n",
    "print(\"*\"*80)\n",
    "r2_value = r2_score(y_test,y_pred)\n",
    "print(\"R-Squared value:\",r2_value)"
   ]
  },
  {
   "cell_type": "code",
   "execution_count": 98,
   "id": "df5ce7f1",
   "metadata": {},
   "outputs": [
    {
     "name": "stdout",
     "output_type": "stream",
     "text": [
      "MSE : 8138037.694735378\n",
      "********************************************************************************\n",
      "RMSE : 2852.72460898969\n",
      "********************************************************************************\n",
      "MAE: 1816.5339283127419\n",
      "********************************************************************************\n",
      "R-Squared value: 0.608943363950166\n"
     ]
    }
   ],
   "source": [
    "#Training Data Evaluation\n",
    "\n",
    "y_pred_train = rf_reg.predict(x_train)\n",
    "\n",
    "mse = mean_squared_error(y_train,y_pred_train)\n",
    "print(\"MSE :\",mse)\n",
    "\n",
    "print(\"*\"*80)\n",
    "rmse = np.sqrt(mse)\n",
    "print(\"RMSE :\",rmse)\n",
    "\n",
    "print(\"*\"*80)\n",
    "mae = mean_absolute_error(y_train,y_pred_train)\n",
    "print(\"MAE:\",mae)\n",
    "print(\"*\"*80)\n",
    "r2_value = r2_score(y_train,y_pred_train)\n",
    "print(\"R-Squared value:\",r2_value)"
   ]
  },
  {
   "cell_type": "code",
   "execution_count": 99,
   "id": "f4c605ea",
   "metadata": {},
   "outputs": [
    {
     "data": {
      "text/plain": [
       "Index(['Airline', 'Source', 'Destination', 'Duration', 'Total_Stops'], dtype='object')"
      ]
     },
     "execution_count": 99,
     "metadata": {},
     "output_type": "execute_result"
    }
   ],
   "source": [
    "x.columns"
   ]
  },
  {
   "cell_type": "code",
   "execution_count": 110,
   "id": "cbf12eff",
   "metadata": {},
   "outputs": [],
   "source": [
    "json_data = {\"Airline\":Airline,'Source':Source,'Destination':Destination,'Total_Stops':{'1 stop': 1,'non-stop': 0,'2 stops': 2,'3 stops': 3, '4 stops': 4},'columns':list(x.columns)}"
   ]
  },
  {
   "cell_type": "code",
   "execution_count": 111,
   "id": "3d602f63",
   "metadata": {},
   "outputs": [
    {
     "data": {
      "text/plain": [
       "{'Airline': {'Jet Airways': 0,\n",
       "  'IndiGo': 1,\n",
       "  'Air India': 2,\n",
       "  'Multiple carriers': 3,\n",
       "  'SpiceJet': 4,\n",
       "  'Vistara': 5,\n",
       "  'Air Asia': 6,\n",
       "  'GoAir': 7,\n",
       "  'Multiple carriers Premium economy': 8,\n",
       "  'Jet Airways Business': 9,\n",
       "  'Vistara Premium economy': 10,\n",
       "  'Trujet': 11},\n",
       " 'Source': {'Delhi': 0,\n",
       "  'Kolkata': 1,\n",
       "  'Banglore': 2,\n",
       "  'Mumbai': 3,\n",
       "  'Chennai': 4},\n",
       " 'Destination': {'Cochin': 0,\n",
       "  'Banglore': 1,\n",
       "  'Delhi': 2,\n",
       "  'New Delhi': 3,\n",
       "  'Hyderabad': 4,\n",
       "  'Kolkata': 5},\n",
       " 'Total_Stops': {'1 stop': 1,\n",
       "  'non-stop': 0,\n",
       "  '2 stops': 2,\n",
       "  '3 stops': 3,\n",
       "  '4 stops': 4},\n",
       " 'columns': ['Airline', 'Source', 'Destination', 'Duration', 'Total_Stops']}"
      ]
     },
     "execution_count": 111,
     "metadata": {},
     "output_type": "execute_result"
    }
   ],
   "source": [
    "json_data"
   ]
  },
  {
   "cell_type": "code",
   "execution_count": 109,
   "id": "1746cc01",
   "metadata": {},
   "outputs": [
    {
     "data": {
      "text/plain": [
       "['Airline', 'Source', 'Destination', 'Duration', 'Total_Stops']"
      ]
     },
     "execution_count": 109,
     "metadata": {},
     "output_type": "execute_result"
    }
   ],
   "source": [
    "list(x.columns)"
   ]
  },
  {
   "cell_type": "code",
   "execution_count": null,
   "id": "f4665faf",
   "metadata": {},
   "outputs": [],
   "source": []
  },
  {
   "cell_type": "code",
   "execution_count": 113,
   "id": "23b9f6ae",
   "metadata": {},
   "outputs": [],
   "source": [
    "import json\n",
    "with open(\"json_data.json\",\"w\") as f:\n",
    "    json.dump(json_data,f)"
   ]
  },
  {
   "cell_type": "code",
   "execution_count": 119,
   "id": "897997e2",
   "metadata": {},
   "outputs": [],
   "source": [
    "import pickle\n",
    "with open(\"rf_model.pkl\",\"wb\") as f:\n",
    "    pickle.dump(rf_regres,f)"
   ]
  },
  {
   "cell_type": "code",
   "execution_count": null,
   "id": "c5889aab",
   "metadata": {},
   "outputs": [],
   "source": []
  }
 ],
 "metadata": {
  "kernelspec": {
   "display_name": "Python 3 (ipykernel)",
   "language": "python",
   "name": "python3"
  },
  "language_info": {
   "codemirror_mode": {
    "name": "ipython",
    "version": 3
   },
   "file_extension": ".py",
   "mimetype": "text/x-python",
   "name": "python",
   "nbconvert_exporter": "python",
   "pygments_lexer": "ipython3",
   "version": "3.9.13"
  }
 },
 "nbformat": 4,
 "nbformat_minor": 5
}
