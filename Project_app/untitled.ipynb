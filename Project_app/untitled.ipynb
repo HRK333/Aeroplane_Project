{
 "cells": [
  {
   "cell_type": "code",
   "execution_count": 1,
   "metadata": {},
   "outputs": [],
   "source": [
    "import json\n",
    "with open(\"json_data.json\",\"r\") as f:\n",
    "    dict1 = json.load(f)"
   ]
  },
  {
   "cell_type": "code",
   "execution_count": 2,
   "metadata": {},
   "outputs": [
    {
     "data": {
      "text/plain": [
       "{'Airline': {'Jet Airways': 0,\n",
       "  'IndiGo': 1,\n",
       "  'Air India': 2,\n",
       "  'Multiple carriers': 3,\n",
       "  'SpiceJet': 4,\n",
       "  'Vistara': 5,\n",
       "  'Air Asia': 6,\n",
       "  'GoAir': 7,\n",
       "  'Multiple carriers Premium economy': 8,\n",
       "  'Jet Airways Business': 9,\n",
       "  'Vistara Premium economy': 10,\n",
       "  'Trujet': 11},\n",
       " 'Source': {'Delhi': 0,\n",
       "  'Kolkata': 1,\n",
       "  'Banglore': 2,\n",
       "  'Mumbai': 3,\n",
       "  'Chennai': 4},\n",
       " 'Destination': {'Cochin': 0,\n",
       "  'Banglore': 1,\n",
       "  'Delhi': 2,\n",
       "  'New Delhi': 3,\n",
       "  'Hyderabad': 4,\n",
       "  'Kolkata': 5},\n",
       " 'Total_Stops': {'1 stop': 1,\n",
       "  'non-stop': 0,\n",
       "  '2 stops': 2,\n",
       "  '3 stops': 3,\n",
       "  '4 stops': 4},\n",
       " 'columns': ['Airline', 'Source', 'Destination', 'Duration', 'Total_Stops']}"
      ]
     },
     "execution_count": 2,
     "metadata": {},
     "output_type": "execute_result"
    }
   ],
   "source": [
    "dict1"
   ]
  },
  {
   "cell_type": "code",
   "execution_count": 3,
   "metadata": {},
   "outputs": [
    {
     "name": "stdout",
     "output_type": "stream",
     "text": [
      "<option value = \"Delhi\">Delhi</option>\n",
      "<option value = \"Kolkata\">Kolkata</option>\n",
      "<option value = \"Banglore\">Banglore</option>\n",
      "<option value = \"Mumbai\">Mumbai</option>\n",
      "<option value = \"Chennai\">Chennai</option>\n"
     ]
    }
   ],
   "source": [
    "lst2 = list(dict1[\"Source\"].keys())\n",
    "for i in lst2:\n",
    "    print(f'<option value = \"{i}\">{i}</option>')"
   ]
  },
  {
   "cell_type": "code",
   "execution_count": 4,
   "metadata": {},
   "outputs": [
    {
     "name": "stdout",
     "output_type": "stream",
     "text": [
      "<option value = \"Cochin\">Cochin</option>\n",
      "<option value = \"Banglore\">Banglore</option>\n",
      "<option value = \"Delhi\">Delhi</option>\n",
      "<option value = \"New Delhi\">New Delhi</option>\n",
      "<option value = \"Hyderabad\">Hyderabad</option>\n",
      "<option value = \"Kolkata\">Kolkata</option>\n"
     ]
    }
   ],
   "source": [
    "lst3 = list(dict1[\"Destination\"].keys())\n",
    "for i in lst3:\n",
    "    print(f'<option value = \"{i}\">{i}</option>')"
   ]
  },
  {
   "cell_type": "code",
   "execution_count": 5,
   "metadata": {},
   "outputs": [
    {
     "name": "stdout",
     "output_type": "stream",
     "text": [
      "<option value = \"Jet Airways\">Jet Airways</option>\n",
      "<option value = \"IndiGo\">IndiGo</option>\n",
      "<option value = \"Air India\">Air India</option>\n",
      "<option value = \"Multiple carriers\">Multiple carriers</option>\n",
      "<option value = \"SpiceJet\">SpiceJet</option>\n",
      "<option value = \"Vistara\">Vistara</option>\n",
      "<option value = \"Air Asia\">Air Asia</option>\n",
      "<option value = \"GoAir\">GoAir</option>\n",
      "<option value = \"Multiple carriers Premium economy\">Multiple carriers Premium economy</option>\n",
      "<option value = \"Jet Airways Business\">Jet Airways Business</option>\n",
      "<option value = \"Vistara Premium economy\">Vistara Premium economy</option>\n",
      "<option value = \"Trujet\">Trujet</option>\n"
     ]
    }
   ],
   "source": [
    "lst4 = list(dict1[\"Airline\"].keys())\n",
    "for i in lst4:\n",
    "    print(f'<option value = \"{i}\">{i}</option>')"
   ]
  },
  {
   "cell_type": "code",
   "execution_count": 6,
   "metadata": {},
   "outputs": [
    {
     "name": "stdout",
     "output_type": "stream",
     "text": [
      "<option value = \"1 stop\">1 stop</option>\n",
      "<option value = \"non-stop\">non-stop</option>\n",
      "<option value = \"2 stops\">2 stops</option>\n",
      "<option value = \"3 stops\">3 stops</option>\n",
      "<option value = \"4 stops\">4 stops</option>\n"
     ]
    }
   ],
   "source": [
    "lst1 = list(dict1[\"Total_Stops\"].keys())\n",
    "for i in lst1:\n",
    "    print(f'<option value = \"{i}\">{i}</option>')"
   ]
  },
  {
   "cell_type": "code",
   "execution_count": null,
   "metadata": {},
   "outputs": [],
   "source": []
  },
  {
   "cell_type": "code",
   "execution_count": null,
   "metadata": {},
   "outputs": [],
   "source": []
  }
 ],
 "metadata": {
  "kernelspec": {
   "display_name": "Python 3.9.12 64-bit",
   "language": "python",
   "name": "python3"
  },
  "language_info": {
   "codemirror_mode": {
    "name": "ipython",
    "version": 3
   },
   "file_extension": ".py",
   "mimetype": "text/x-python",
   "name": "python",
   "nbconvert_exporter": "python",
   "pygments_lexer": "ipython3",
   "version": "3.9.12"
  },
  "orig_nbformat": 4,
  "vscode": {
   "interpreter": {
    "hash": "11938c6bc6919ae2720b4d5011047913343b08a43b18698fd82dedb0d4417594"
   }
  }
 },
 "nbformat": 4,
 "nbformat_minor": 2
}
